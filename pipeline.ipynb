{
 "cells": [
  {
   "cell_type": "code",
   "execution_count": 378,
   "id": "93676355",
   "metadata": {},
   "outputs": [],
   "source": [
    "import pandas as pd\n",
    "import seaborn as sns\n",
    "import matplotlib.pyplot as plt\n",
    "import numpy as np\n",
    "from sklearn.model_selection import train_test_split\n",
    "from sklearn.preprocessing import StandardScaler, RobustScaler, MinMaxScaler\n",
    "from sklearn.preprocessing import OneHotEncoder\n",
    "from sklearn.impute import SimpleImputer\n",
    "from sklearn.pipeline import Pipeline\n",
    "from sklearn.compose import ColumnTransformer\n",
    "from sklearn.tree import DecisionTreeClassifier\n",
    "from sklearn.metrics import accuracy_score\n",
    "from sklearn.model_selection import cross_validate\n",
    "import matplotlib.pyplot as plt\n",
    "import numpy as np"
   ]
  },
  {
   "cell_type": "code",
   "execution_count": 379,
   "id": "2e359724",
   "metadata": {},
   "outputs": [],
   "source": [
    "df = pd.read_csv(\"s3://german-credit-22/Datos/original/german_credit_data.csv\", index_col=0)"
   ]
  },
  {
   "cell_type": "code",
   "execution_count": 380,
   "id": "f8bf06c4",
   "metadata": {},
   "outputs": [],
   "source": [
    "train, test = train_test_split(df, test_size=0.3, random_state=42, stratify=df[\"Risk\"])"
   ]
  },
  {
   "cell_type": "code",
   "execution_count": 381,
   "id": "65eec353",
   "metadata": {},
   "outputs": [],
   "source": [
    "features = ['Age', 'Credit amount', 'Duration', 'Sex', 'Purpose', 'Housing']"
   ]
  },
  {
   "cell_type": "code",
   "execution_count": 382,
   "id": "24092e77",
   "metadata": {},
   "outputs": [],
   "source": [
    "numeric_pipeline = Pipeline(\n",
    "    [\n",
    "        ('Imputación con la media', SimpleImputer(strategy='mean')),\n",
    "        ('Escalado minmax', MinMaxScaler())\n",
    "    ]\n",
    ")"
   ]
  },
  {
   "cell_type": "code",
   "execution_count": 383,
   "id": "8bea90dc",
   "metadata": {},
   "outputs": [],
   "source": [
    "categorical_pipeline = Pipeline(\n",
    "    [\n",
    "        (\"Imputacion con la Moda\", SimpleImputer(strategy='most_frequent')),\n",
    "        (\"Codificación OneHot\", OneHotEncoder(sparse=False))\n",
    "    ]\n",
    ")"
   ]
  },
  {
   "cell_type": "code",
   "execution_count": 384,
   "id": "ea6e6468",
   "metadata": {},
   "outputs": [],
   "source": [
    "column_transformer = ColumnTransformer(\n",
    "    [\n",
    "        (\"numeric_pipeline\", numeric_pipeline, [0,1,2]),\n",
    "        (\"categorical_pipeline\", categorical_pipeline, [3,4,5])\n",
    "    ]\n",
    ")"
   ]
  },
  {
   "cell_type": "markdown",
   "id": "20fb6550",
   "metadata": {},
   "source": [
    "## Selección de carasteristicas"
   ]
  },
  {
   "cell_type": "markdown",
   "id": "b6fbd221",
   "metadata": {},
   "source": [
    "### Preprocesamiento"
   ]
  },
  {
   "cell_type": "code",
   "execution_count": 385,
   "id": "4306c78d",
   "metadata": {},
   "outputs": [],
   "source": [
    "#train = train.dropna()"
   ]
  },
  {
   "cell_type": "code",
   "execution_count": 386,
   "id": "bb70b01e",
   "metadata": {},
   "outputs": [],
   "source": [
    "X_train = train.drop(\"Risk\", axis=1)"
   ]
  },
  {
   "cell_type": "code",
   "execution_count": 387,
   "id": "f6192aec",
   "metadata": {},
   "outputs": [],
   "source": [
    "y_train = train[\"Risk\"]"
   ]
  },
  {
   "cell_type": "code",
   "execution_count": 388,
   "id": "50c461ce",
   "metadata": {},
   "outputs": [],
   "source": [
    "y_train = (y_train=='good').astype('int')"
   ]
  },
  {
   "cell_type": "code",
   "execution_count": 389,
   "id": "5b2b9878",
   "metadata": {},
   "outputs": [
    {
     "name": "stdout",
     "output_type": "stream",
     "text": [
      "<class 'pandas.core.frame.DataFrame'>\n",
      "Int64Index: 700 entries, 328 to 617\n",
      "Data columns (total 9 columns):\n",
      " #   Column            Non-Null Count  Dtype \n",
      "---  ------            --------------  ----- \n",
      " 0   Age               700 non-null    int64 \n",
      " 1   Sex               700 non-null    object\n",
      " 2   Job               700 non-null    int64 \n",
      " 3   Housing           700 non-null    object\n",
      " 4   Saving accounts   575 non-null    object\n",
      " 5   Checking account  426 non-null    object\n",
      " 6   Credit amount     700 non-null    int64 \n",
      " 7   Duration          700 non-null    int64 \n",
      " 8   Purpose           700 non-null    object\n",
      "dtypes: int64(4), object(5)\n",
      "memory usage: 54.7+ KB\n"
     ]
    }
   ],
   "source": [
    "X_train.info()"
   ]
  },
  {
   "cell_type": "code",
   "execution_count": 390,
   "id": "5cd332a4",
   "metadata": {},
   "outputs": [
    {
     "data": {
      "text/plain": [
       "little        428\n",
       "moderate       78\n",
       "quite rich     36\n",
       "rich           33\n",
       "Name: Saving accounts, dtype: int64"
      ]
     },
     "execution_count": 390,
     "metadata": {},
     "output_type": "execute_result"
    }
   ],
   "source": [
    "X_train['Saving accounts'].value_counts()"
   ]
  },
  {
   "cell_type": "code",
   "execution_count": 391,
   "id": "63727574",
   "metadata": {},
   "outputs": [],
   "source": [
    "X_train = pd.get_dummies(X_train)"
   ]
  },
  {
   "cell_type": "markdown",
   "id": "784de8ac",
   "metadata": {},
   "source": [
    "X_train"
   ]
  },
  {
   "cell_type": "markdown",
   "id": "4e6aa7b5",
   "metadata": {},
   "source": [
    "### Seleccion de Caracteristicas con Arbol Decisión"
   ]
  },
  {
   "cell_type": "code",
   "execution_count": 392,
   "id": "36e0b94c",
   "metadata": {},
   "outputs": [],
   "source": [
    "model = DecisionTreeClassifier()"
   ]
  },
  {
   "cell_type": "code",
   "execution_count": 393,
   "id": "dd47cc81",
   "metadata": {},
   "outputs": [
    {
     "data": {
      "text/plain": [
       "DecisionTreeClassifier()"
      ]
     },
     "execution_count": 393,
     "metadata": {},
     "output_type": "execute_result"
    }
   ],
   "source": [
    "model.fit(X_train, y_train)"
   ]
  },
  {
   "cell_type": "code",
   "execution_count": 394,
   "id": "df25250d",
   "metadata": {},
   "outputs": [
    {
     "data": {
      "text/plain": [
       "array([0.12461137, 0.0315237 , 0.28664538, 0.16716172, 0.01269841,\n",
       "       0.03938988, 0.01981931, 0.00946746, 0.01984127, 0.03518417,\n",
       "       0.        , 0.00304332, 0.        , 0.06747871, 0.04923547,\n",
       "       0.00694638, 0.01761003, 0.01496599, 0.        , 0.01486732,\n",
       "       0.03406035, 0.04230601, 0.00314375, 0.        ])"
      ]
     },
     "execution_count": 394,
     "metadata": {},
     "output_type": "execute_result"
    }
   ],
   "source": [
    "model.feature_importances_"
   ]
  },
  {
   "cell_type": "code",
   "execution_count": 395,
   "id": "23f0f6df",
   "metadata": {},
   "outputs": [
    {
     "data": {
      "text/plain": [
       "Index(['Age', 'Job', 'Credit amount', 'Duration', 'Sex_female', 'Sex_male',\n",
       "       'Housing_free', 'Housing_own', 'Housing_rent', 'Saving accounts_little',\n",
       "       'Saving accounts_moderate', 'Saving accounts_quite rich',\n",
       "       'Saving accounts_rich', 'Checking account_little',\n",
       "       'Checking account_moderate', 'Checking account_rich',\n",
       "       'Purpose_business', 'Purpose_car', 'Purpose_domestic appliances',\n",
       "       'Purpose_education', 'Purpose_furniture/equipment', 'Purpose_radio/TV',\n",
       "       'Purpose_repairs', 'Purpose_vacation/others'],\n",
       "      dtype='object')"
      ]
     },
     "execution_count": 395,
     "metadata": {},
     "output_type": "execute_result"
    }
   ],
   "source": [
    "X_train.columns"
   ]
  },
  {
   "cell_type": "code",
   "execution_count": 396,
   "id": "f7b8cda4",
   "metadata": {},
   "outputs": [],
   "source": [
    "dict_features = {}\n",
    "for nombre, coef_gini in zip(X_train.columns, model.feature_importances_):\n",
    "    dict_features[nombre] = coef_gini"
   ]
  },
  {
   "cell_type": "code",
   "execution_count": 397,
   "id": "f150028e",
   "metadata": {},
   "outputs": [],
   "source": [
    "ordered_columns = X_train.columns[np.flip(np.argsort(model.feature_importances_))]"
   ]
  },
  {
   "cell_type": "code",
   "execution_count": 398,
   "id": "9b47b003",
   "metadata": {},
   "outputs": [],
   "source": [
    "ordered_importance = np.flip(np.sort(model.feature_importances_))"
   ]
  },
  {
   "cell_type": "code",
   "execution_count": 399,
   "id": "5b1edc03",
   "metadata": {},
   "outputs": [
    {
     "data": {
      "image/png": "[encoded data removed]",
      "text/plain": [
       "<Figure size 1440x576 with 1 Axes>"
      ]
     },
     "metadata": {
      "needs_background": "light"
     },
     "output_type": "display_data"
    }
   ],
   "source": [
    "plt.figure(figsize=(20,8)) \n",
    "plt.bar(x=ordered_columns,\n",
    "       height=ordered_importance)\n",
    "plt.xticks(rotation=45)\n",
    "plt.show()"
   ]
  },
  {
   "cell_type": "markdown",
   "id": "bc9967e0",
   "metadata": {},
   "source": [
    "### Selección de Caracteristicas con Regresión Logística"
   ]
  },
  {
   "cell_type": "code",
   "execution_count": 400,
   "id": "2894102c",
   "metadata": {},
   "outputs": [],
   "source": [
    "from sklearn.linear_model import LogisticRegression\n",
    "from sklearn.preprocessing import MinMaxScaler"
   ]
  },
  {
   "cell_type": "code",
   "execution_count": 401,
   "id": "bf6c9cc7",
   "metadata": {},
   "outputs": [],
   "source": [
    "X_train_scaled = MinMaxScaler().fit_transform(X_train)"
   ]
  },
  {
   "cell_type": "code",
   "execution_count": 402,
   "id": "3aa595bb",
   "metadata": {},
   "outputs": [],
   "source": [
    "model = LogisticRegression()"
   ]
  },
  {
   "cell_type": "code",
   "execution_count": 403,
   "id": "10cfbacb",
   "metadata": {},
   "outputs": [
    {
     "data": {
      "text/plain": [
       "LogisticRegression()"
      ]
     },
     "execution_count": 403,
     "metadata": {},
     "output_type": "execute_result"
    }
   ],
   "source": [
    "model.fit(X_train_scaled, y_train)"
   ]
  },
  {
   "cell_type": "code",
   "execution_count": 404,
   "id": "96c6e6c9",
   "metadata": {},
   "outputs": [
    {
     "data": {
      "text/plain": [
       "array([[ 0.835423  ,  0.22589944, -0.84641275, -1.65275004, -0.17648599,\n",
       "         0.17627164, -0.06978226,  0.19162547, -0.12205756, -0.75798873,\n",
       "        -0.61445739, -0.0168324 ,  0.4072842 , -1.58304637, -1.21149862,\n",
       "        -0.53892366, -0.02147902,  0.10660812,  0.06698805, -0.61955824,\n",
       "         0.21115495,  0.55444807, -0.22076645, -0.07760984]])"
      ]
     },
     "execution_count": 404,
     "metadata": {},
     "output_type": "execute_result"
    }
   ],
   "source": [
    "model.coef_"
   ]
  },
  {
   "cell_type": "code",
   "execution_count": 405,
   "id": "fd9d2f7a",
   "metadata": {},
   "outputs": [
    {
     "name": "stderr",
     "output_type": "stream",
     "text": [
      "/tmp/ipykernel_6937/94092939.py:1: FutureWarning: Support for multi-dimensional indexing (e.g. `obj[:, None]`) is deprecated and will be removed in a future version.  Convert to a numpy array before indexing instead.\n",
      "  lg_ordered_columns = X_train.columns[np.flip(np.argsort(model.coef_))]\n"
     ]
    }
   ],
   "source": [
    "lg_ordered_columns = X_train.columns[np.flip(np.argsort(model.coef_))]"
   ]
  },
  {
   "cell_type": "code",
   "execution_count": 406,
   "id": "2c128e9e",
   "metadata": {},
   "outputs": [],
   "source": [
    "lg_ordered_importance = np.flip(np.sort(model.coef_))[0]"
   ]
  },
  {
   "cell_type": "code",
   "execution_count": 407,
   "id": "44d4724c",
   "metadata": {},
   "outputs": [
    {
     "data": {
      "image/png": "[encoded data removed]",
      "text/plain": [
       "<Figure size 1440x576 with 1 Axes>"
      ]
     },
     "metadata": {
      "needs_background": "light"
     },
     "output_type": "display_data"
    }
   ],
   "source": [
    "plt.figure(figsize=(20,8)) \n",
    "plt.bar(x=X_train.columns,\n",
    "       height=model.coef_[0])\n",
    "plt.xticks(rotation=45)\n",
    "plt.show()"
   ]
  },
  {
   "cell_type": "markdown",
   "id": "4e1454ac",
   "metadata": {},
   "source": [
    "## Evaluación de modelos"
   ]
  },
  {
   "cell_type": "markdown",
   "id": "53ac25ea",
   "metadata": {},
   "source": [
    "### Validación Cruzada"
   ]
  },
  {
   "cell_type": "markdown",
   "id": "4ba77f64",
   "metadata": {},
   "source": [
    "### Decision Tree"
   ]
  },
  {
   "cell_type": "code",
   "execution_count": 408,
   "id": "68b358ba",
   "metadata": {},
   "outputs": [],
   "source": [
    "final_pipeline = Pipeline(\n",
    "    [\n",
    "        (\"Pipeline de preprocesamiento\", column_transformer),\n",
    "        (\"Modelo de predicción (Árbol)\", DecisionTreeClassifier(max_depth=4))\n",
    "    ]\n",
    ")"
   ]
  },
  {
   "cell_type": "code",
   "execution_count": 409,
   "id": "5a06add4",
   "metadata": {},
   "outputs": [],
   "source": [
    "X_trainf_final = train[features]"
   ]
  },
  {
   "cell_type": "code",
   "execution_count": 410,
   "id": "c3ca18a4",
   "metadata": {},
   "outputs": [],
   "source": [
    "results = cross_validate(final_pipeline,\n",
    "                        X_trainf_final, y_train, cv=10,\n",
    "                         return_train_score=True,\n",
    "                         scoring=[\"accuracy\", \"f1\"]\n",
    "                        )"
   ]
  },
  {
   "cell_type": "code",
   "execution_count": 411,
   "id": "ef484daa",
   "metadata": {},
   "outputs": [
    {
     "name": "stdout",
     "output_type": "stream",
     "text": [
      "train:  0.7595238095238095 +- 0.004559176703601622\n",
      "validation:  0.7171428571428571 +- 0.023733211036908786\n"
     ]
    }
   ],
   "source": [
    "print(\"train: \", results['train_accuracy'].mean(), \"+-\", results[\"train_accuracy\"].std())\n",
    "print(\"validation: \", results['test_accuracy'].mean(), \"+-\", results[\"test_accuracy\"].std())"
   ]
  },
  {
   "cell_type": "markdown",
   "id": "3363f63e",
   "metadata": {
    "toc-hr-collapsed": true,
    "toc-nb-collapsed": true
   },
   "source": [
    "### Logistic Regression"
   ]
  },
  {
   "cell_type": "code",
   "execution_count": 412,
   "id": "e458afe5",
   "metadata": {},
   "outputs": [],
   "source": [
    "final_pipeline_lr = Pipeline(\n",
    "    [\n",
    "        (\"Pipeline de preprocesamiento\", column_transformer),\n",
    "        (\"Modelo de predicción (Árbol)\", LogisticRegression())\n",
    "    ]\n",
    ")"
   ]
  },
  {
   "cell_type": "code",
   "execution_count": 413,
   "id": "5bfce987",
   "metadata": {},
   "outputs": [],
   "source": [
    "X_trainf_lr = train[features]"
   ]
  },
  {
   "cell_type": "code",
   "execution_count": 414,
   "id": "e208d8b9",
   "metadata": {},
   "outputs": [],
   "source": [
    "results_lr = cross_validate(final_pipeline_lr,\n",
    "                        X_trainf_lr, y_train, cv=10,\n",
    "                         return_train_score=True,\n",
    "                         scoring=[\"accuracy\", \"f1\"]\n",
    "                        )"
   ]
  },
  {
   "cell_type": "code",
   "execution_count": 415,
   "id": "72f178c3",
   "metadata": {},
   "outputs": [
    {
     "name": "stdout",
     "output_type": "stream",
     "text": [
      "train:  0.7233333333333334 +- 0.00355286179136497\n",
      "validation:  0.7185714285714286 +- 0.026380264732313422\n"
     ]
    }
   ],
   "source": [
    "print(\"train: \", results_lr['train_accuracy'].mean(), \"+-\", results_lr[\"train_accuracy\"].std())\n",
    "print(\"validation: \", results_lr['test_accuracy'].mean(), \"+-\", results_lr[\"test_accuracy\"].std())"
   ]
  },
  {
   "cell_type": "markdown",
   "id": "b6ffc6d2",
   "metadata": {},
   "source": [
    "### Random Forest"
   ]
  },
  {
   "cell_type": "code",
   "execution_count": 416,
   "id": "40d99938",
   "metadata": {},
   "outputs": [],
   "source": [
    "from sklearn.ensemble import RandomForestClassifier"
   ]
  },
  {
   "cell_type": "code",
   "execution_count": 417,
   "id": "b9033c6c",
   "metadata": {},
   "outputs": [],
   "source": [
    "final_pipeline_rf = Pipeline(\n",
    "    [\n",
    "        (\"Pipeline de preprocesamiento\", column_transformer),\n",
    "        (\"Modelo de predicción (Árbol)\", RandomForestClassifier(max_depth=3))\n",
    "    ]\n",
    ")"
   ]
  },
  {
   "cell_type": "code",
   "execution_count": 418,
   "id": "b599f379",
   "metadata": {},
   "outputs": [],
   "source": [
    "X_trainf_rf = train[features]"
   ]
  },
  {
   "cell_type": "markdown",
   "id": "0638a88c",
   "metadata": {},
   "source": [
    "results_rf = cross_validate(final_pipeline_rf,\n",
    "                        X_trainf_rf, y_train, cv=10,\n",
    "                         return_train_score=True,\n",
    "                         scoring=[\"accuracy\", \"f1\"]\n",
    "                        )"
   ]
  },
  {
   "cell_type": "code",
   "execution_count": 420,
   "id": "8bcd35b2",
   "metadata": {},
   "outputs": [
    {
     "name": "stdout",
     "output_type": "stream",
     "text": [
      "train:  0.7279365079365079 +- 0.0041513323271815976\n",
      "validation:  0.7142857142857143 +- 0.015649215928719037\n"
     ]
    }
   ],
   "source": [
    "print(\"train: \", results_rf['train_accuracy'].mean(), \"+-\", results_rf[\"train_accuracy\"].std())\n",
    "print(\"validation: \", results_rf['test_accuracy'].mean(), \"+-\", results_rf[\"test_accuracy\"].std())"
   ]
  },
  {
   "cell_type": "markdown",
   "id": "b35480c8",
   "metadata": {
    "toc-hr-collapsed": true,
    "toc-nb-collapsed": true
   },
   "source": [
    "### Support Vector Machines"
   ]
  },
  {
   "cell_type": "code",
   "execution_count": 421,
   "id": "24e28e72",
   "metadata": {},
   "outputs": [],
   "source": [
    "from sklearn.svm import SVC"
   ]
  },
  {
   "cell_type": "code",
   "execution_count": 422,
   "id": "745c5714",
   "metadata": {},
   "outputs": [],
   "source": [
    "final_pipeline_svm = Pipeline(\n",
    "    [\n",
    "        (\"Pipeline de preprocesamiento\", column_transformer),\n",
    "        (\"Modelo de predicción (Árbol)\", SVC())\n",
    "    ]\n",
    ")"
   ]
  },
  {
   "cell_type": "code",
   "execution_count": 423,
   "id": "2780ef57",
   "metadata": {},
   "outputs": [],
   "source": [
    "X_trainf_svm = train[features]"
   ]
  },
  {
   "cell_type": "code",
   "execution_count": 424,
   "id": "1afd7fea",
   "metadata": {},
   "outputs": [],
   "source": [
    "results_svm = cross_validate(final_pipeline_svm,\n",
    "                        X_trainf_svm, y_train, cv=10,\n",
    "                         return_train_score=True,\n",
    "                         scoring=[\"accuracy\", \"f1\"]\n",
    "                        )"
   ]
  },
  {
   "cell_type": "code",
   "execution_count": 425,
   "id": "20bd2f0d",
   "metadata": {},
   "outputs": [
    {
     "name": "stdout",
     "output_type": "stream",
     "text": [
      "train:  0.7284126984126985 +- 0.004679175546978951\n",
      "validation:  0.7085714285714285 +- 0.011428571428571436\n"
     ]
    }
   ],
   "source": [
    "print(\"train: \", results_svm['train_accuracy'].mean(), \"+-\", results_svm[\"train_accuracy\"].std())\n",
    "print(\"validation: \", results_svm['test_accuracy'].mean(), \"+-\", results_svm[\"test_accuracy\"].std())"
   ]
  },
  {
   "cell_type": "markdown",
   "id": "b5392ea6",
   "metadata": {
    "toc-hr-collapsed": true,
    "toc-nb-collapsed": true
   },
   "source": [
    "### Multilayer Perceptron"
   ]
  },
  {
   "cell_type": "code",
   "execution_count": 429,
   "id": "3fedd89b",
   "metadata": {},
   "outputs": [],
   "source": [
    "from sklearn.neural_network import MLPClassifier"
   ]
  },
  {
   "cell_type": "code",
   "execution_count": 451,
   "id": "c3e68a75",
   "metadata": {},
   "outputs": [],
   "source": [
    "final_pipeline_mlp = Pipeline(\n",
    "    [\n",
    "        (\"Pipeline de preprocesamiento\", column_transformer),\n",
    "        (\"Modelo de predicción (Árbol)\", MLPClassifier(hidden_layer_sizes=(100, 3), max_iter=500))\n",
    "    ]\n",
    ")"
   ]
  },
  {
   "cell_type": "code",
   "execution_count": 452,
   "id": "6b9c3a95",
   "metadata": {},
   "outputs": [],
   "source": [
    "X_trainf_mlp = train[features]"
   ]
  },
  {
   "cell_type": "code",
   "execution_count": 453,
   "id": "cd9eb6c2",
   "metadata": {},
   "outputs": [
    {
     "name": "stderr",
     "output_type": "stream",
     "text": [
      "/home/ec2-user/anaconda3/envs/pytorch_p38/lib/python3.8/site-packages/sklearn/neural_network/_multilayer_perceptron.py:692: ConvergenceWarning: Stochastic Optimizer: Maximum iterations (500) reached and the optimization hasn't converged yet.\n",
      "  warnings.warn(\n",
      "/home/ec2-user/anaconda3/envs/pytorch_p38/lib/python3.8/site-packages/sklearn/neural_network/_multilayer_perceptron.py:692: ConvergenceWarning: Stochastic Optimizer: Maximum iterations (500) reached and the optimization hasn't converged yet.\n",
      "  warnings.warn(\n"
     ]
    }
   ],
   "source": [
    "results_mlp = cross_validate(final_pipeline_mlp,\n",
    "                        X_trainf_mlp, y_train, cv=10,\n",
    "                         return_train_score=True,\n",
    "                         scoring=[\"accuracy\", \"f1\"]\n",
    "                        )"
   ]
  },
  {
   "cell_type": "code",
   "execution_count": 454,
   "id": "b9f6e181",
   "metadata": {},
   "outputs": [
    {
     "name": "stdout",
     "output_type": "stream",
     "text": [
      "train:  0.7838095238095237 +- 0.006459361888690709\n",
      "validation:  0.6985714285714286 +- 0.04446966404649536\n"
     ]
    }
   ],
   "source": [
    "print(\"train: \", results_mlp['train_accuracy'].mean(), \"+-\", results_mlp[\"train_accuracy\"].std())\n",
    "print(\"validation: \", results_mlp['test_accuracy'].mean(), \"+-\", results_mlp[\"test_accuracy\"].std())"
   ]
  },
  {
   "cell_type": "markdown",
   "id": "6e5051f3",
   "metadata": {
    "toc-hr-collapsed": true,
    "toc-nb-collapsed": true
   },
   "source": [
    "## Ajuste de HiperParámetros"
   ]
  },
  {
   "cell_type": "markdown",
   "id": "a67f578b",
   "metadata": {},
   "source": [
    "### Modelo Seleccionado: RandomForest"
   ]
  },
  {
   "cell_type": "code",
   "execution_count": 462,
   "id": "a38f18a8",
   "metadata": {},
   "outputs": [],
   "source": [
    "from sklearn.model_selection import GridSearchCV"
   ]
  },
  {
   "cell_type": "code",
   "execution_count": 463,
   "id": "3c74821c",
   "metadata": {},
   "outputs": [],
   "source": [
    "grid = {'max_depth': [2,3,5,10], 'n_estimators': [50, 100, 200]}"
   ]
  },
  {
   "cell_type": "code",
   "execution_count": 474,
   "id": "6b76b5d3",
   "metadata": {},
   "outputs": [],
   "source": [
    "#Preprocesar ya que no se puede pasar el pipeline al gridsearch\n",
    "X_transformed = column_transformer.fit_transform(X_train)"
   ]
  },
  {
   "cell_type": "code",
   "execution_count": 475,
   "id": "1676a0eb",
   "metadata": {},
   "outputs": [],
   "source": [
    "grid_search = GridSearchCV(\n",
    "    RandomForestClassifier(),\n",
    "    param_grid=grid,\n",
    "    cv=10,\n",
    "    scoring=\"accuracy\"\n",
    ")"
   ]
  },
  {
   "cell_type": "code",
   "execution_count": 476,
   "id": "51043780",
   "metadata": {},
   "outputs": [
    {
     "data": {
      "text/plain": [
       "GridSearchCV(cv=10, estimator=RandomForestClassifier(),\n",
       "             param_grid={'max_depth': [2, 3, 5, 10],\n",
       "                         'n_estimators': [50, 100, 200]},\n",
       "             scoring='accuracy')"
      ]
     },
     "execution_count": 476,
     "metadata": {},
     "output_type": "execute_result"
    }
   ],
   "source": [
    "grid_search.fit(X_transformed, y_train)"
   ]
  },
  {
   "cell_type": "code",
   "execution_count": 477,
   "id": "c4fc1b68",
   "metadata": {},
   "outputs": [
    {
     "data": {
      "text/plain": [
       "{'max_depth': 10, 'n_estimators': 50}"
      ]
     },
     "execution_count": 477,
     "metadata": {},
     "output_type": "execute_result"
    }
   ],
   "source": [
    "grid_search.best_params_"
   ]
  },
  {
   "cell_type": "code",
   "execution_count": 478,
   "id": "15aefa8f",
   "metadata": {},
   "outputs": [
    {
     "data": {
      "text/plain": [
       "0.7171428571428572"
      ]
     },
     "execution_count": 478,
     "metadata": {},
     "output_type": "execute_result"
    }
   ],
   "source": [
    "grid_search.best_score_"
   ]
  },
  {
   "cell_type": "code",
   "execution_count": 481,
   "id": "9254c425",
   "metadata": {},
   "outputs": [
    {
     "data": {
      "text/plain": [
       "{'mean_fit_time': array([0.09979942, 0.11636205, 0.22510152, 0.06191468, 0.11585536,\n",
       "        0.23340554, 0.06183233, 0.12160976, 0.24425964, 0.06832285,\n",
       "        0.13690217, 0.27076013]),\n",
       " 'std_fit_time': array([0.06003062, 0.00542911, 0.00175168, 0.00460733, 0.0016139 ,\n",
       "        0.01024451, 0.00154399, 0.00186299, 0.00776998, 0.0012834 ,\n",
       "        0.00521328, 0.00823   ]),\n",
       " 'mean_score_time': array([0.00922935, 0.0088429 , 0.01600459, 0.00517118, 0.00833259,\n",
       "        0.01589103, 0.00468869, 0.00852087, 0.01608458, 0.00483623,\n",
       "        0.0092442 , 0.01708624]),\n",
       " 'std_score_time': array([0.00780084, 0.00100151, 0.00034649, 0.00115916, 0.00010809,\n",
       "        0.00014976, 0.00029397, 0.00018953, 0.00014076, 0.00011675,\n",
       "        0.00066901, 0.00025716]),\n",
       " 'param_max_depth': masked_array(data=[2, 2, 2, 3, 3, 3, 5, 5, 5, 10, 10, 10],\n",
       "              mask=[False, False, False, False, False, False, False, False,\n",
       "                    False, False, False, False],\n",
       "        fill_value='?',\n",
       "             dtype=object),\n",
       " 'param_n_estimators': masked_array(data=[50, 100, 200, 50, 100, 200, 50, 100, 200, 50, 100, 200],\n",
       "              mask=[False, False, False, False, False, False, False, False,\n",
       "                    False, False, False, False],\n",
       "        fill_value='?',\n",
       "             dtype=object),\n",
       " 'params': [{'max_depth': 2, 'n_estimators': 50},\n",
       "  {'max_depth': 2, 'n_estimators': 100},\n",
       "  {'max_depth': 2, 'n_estimators': 200},\n",
       "  {'max_depth': 3, 'n_estimators': 50},\n",
       "  {'max_depth': 3, 'n_estimators': 100},\n",
       "  {'max_depth': 3, 'n_estimators': 200},\n",
       "  {'max_depth': 5, 'n_estimators': 50},\n",
       "  {'max_depth': 5, 'n_estimators': 100},\n",
       "  {'max_depth': 5, 'n_estimators': 200},\n",
       "  {'max_depth': 10, 'n_estimators': 50},\n",
       "  {'max_depth': 10, 'n_estimators': 100},\n",
       "  {'max_depth': 10, 'n_estimators': 200}],\n",
       " 'split0_test_score': array([0.7       , 0.7       , 0.7       , 0.71428571, 0.71428571,\n",
       "        0.71428571, 0.71428571, 0.71428571, 0.71428571, 0.74285714,\n",
       "        0.74285714, 0.74285714]),\n",
       " 'split1_test_score': array([0.7       , 0.7       , 0.7       , 0.71428571, 0.7       ,\n",
       "        0.7       , 0.75714286, 0.78571429, 0.77142857, 0.78571429,\n",
       "        0.8       , 0.78571429]),\n",
       " 'split2_test_score': array([0.7       , 0.7       , 0.7       , 0.7       , 0.7       ,\n",
       "        0.7       , 0.7       , 0.68571429, 0.68571429, 0.68571429,\n",
       "        0.7       , 0.7       ]),\n",
       " 'split3_test_score': array([0.7       , 0.7       , 0.7       , 0.7       , 0.7       ,\n",
       "        0.7       , 0.72857143, 0.72857143, 0.72857143, 0.68571429,\n",
       "        0.64285714, 0.65714286]),\n",
       " 'split4_test_score': array([0.7       , 0.7       , 0.7       , 0.7       , 0.7       ,\n",
       "        0.7       , 0.74285714, 0.74285714, 0.74285714, 0.78571429,\n",
       "        0.77142857, 0.74285714]),\n",
       " 'split5_test_score': array([0.7       , 0.7       , 0.7       , 0.7       , 0.7       ,\n",
       "        0.7       , 0.7       , 0.68571429, 0.7       , 0.7       ,\n",
       "        0.7       , 0.72857143]),\n",
       " 'split6_test_score': array([0.7       , 0.7       , 0.68571429, 0.68571429, 0.68571429,\n",
       "        0.68571429, 0.68571429, 0.68571429, 0.7       , 0.7       ,\n",
       "        0.68571429, 0.68571429]),\n",
       " 'split7_test_score': array([0.7       , 0.7       , 0.7       , 0.7       , 0.71428571,\n",
       "        0.7       , 0.74285714, 0.72857143, 0.72857143, 0.71428571,\n",
       "        0.67142857, 0.71428571]),\n",
       " 'split8_test_score': array([0.7       , 0.7       , 0.7       , 0.68571429, 0.71428571,\n",
       "        0.68571429, 0.67142857, 0.7       , 0.68571429, 0.67142857,\n",
       "        0.67142857, 0.7       ]),\n",
       " 'split9_test_score': array([0.7       , 0.7       , 0.7       , 0.7       , 0.7       ,\n",
       "        0.68571429, 0.7       , 0.7       , 0.68571429, 0.7       ,\n",
       "        0.74285714, 0.7       ]),\n",
       " 'mean_test_score': array([0.7       , 0.7       , 0.69857143, 0.7       , 0.70285714,\n",
       "        0.69714286, 0.71428571, 0.71571429, 0.71428571, 0.71714286,\n",
       "        0.71285714, 0.71571429]),\n",
       " 'std_test_score': array([0.        , 0.        , 0.00428571, 0.00903508, 0.00857143,\n",
       "        0.00857143, 0.02634156, 0.03027089, 0.02710524, 0.03875617,\n",
       "        0.04714286, 0.03407674]),\n",
       " 'rank_test_score': array([ 8,  8, 11,  8,  7, 12,  4,  3,  5,  1,  6,  2], dtype=int32)}"
      ]
     },
     "execution_count": 481,
     "metadata": {},
     "output_type": "execute_result"
    }
   ],
   "source": [
    "grid_search.cv_results_"
   ]
  },
  {
   "cell_type": "markdown",
   "id": "20c49d05",
   "metadata": {},
   "source": [
    "## Modelo Final"
   ]
  },
  {
   "cell_type": "markdown",
   "id": "55f7fb98",
   "metadata": {},
   "source": [
    "### Randon Forest: {'max_depth': 10, 'n_estimators': 50}"
   ]
  },
  {
   "cell_type": "code",
   "execution_count": 482,
   "id": "baa1e02c",
   "metadata": {},
   "outputs": [],
   "source": [
    "final_pipeline_bestmodel = Pipeline(\n",
    "    [\n",
    "        (\"Pipeline de preprocesamiento\", column_transformer),\n",
    "        (\"Modelo de predicción (Árbol)\", RandomForestClassifier(max_depth=10, n_estimators=50))\n",
    "    ]\n",
    ")"
   ]
  },
  {
   "cell_type": "code",
   "execution_count": 483,
   "id": "cf693cad",
   "metadata": {},
   "outputs": [],
   "source": [
    "X_train_best_model = train[features]"
   ]
  },
  {
   "cell_type": "code",
   "execution_count": 484,
   "id": "e052f6ce",
   "metadata": {},
   "outputs": [
    {
     "data": {
      "text/plain": [
       "Pipeline(steps=[('Pipeline de preprocesamiento',\n",
       "                 ColumnTransformer(transformers=[('numeric_pipeline',\n",
       "                                                  Pipeline(steps=[('Imputación '\n",
       "                                                                   'con la '\n",
       "                                                                   'media',\n",
       "                                                                   SimpleImputer()),\n",
       "                                                                  ('Escalado '\n",
       "                                                                   'minmax',\n",
       "                                                                   MinMaxScaler())]),\n",
       "                                                  [0, 1, 2]),\n",
       "                                                 ('categorical_pipeline',\n",
       "                                                  Pipeline(steps=[('Imputacion '\n",
       "                                                                   'con la '\n",
       "                                                                   'Moda',\n",
       "                                                                   SimpleImputer(strategy='most_frequent')),\n",
       "                                                                  ('Codificación '\n",
       "                                                                   'OneHot',\n",
       "                                                                   OneHotEncoder(sparse=False))]),\n",
       "                                                  [3, 4, 5])])),\n",
       "                ('Modelo de predicción (Árbol)',\n",
       "                 RandomForestClassifier(max_depth=10, n_estimators=50))])"
      ]
     },
     "execution_count": 484,
     "metadata": {},
     "output_type": "execute_result"
    }
   ],
   "source": [
    "final_pipeline_bestmodel.fit(X_train_best_model, y_train)"
   ]
  },
  {
   "cell_type": "code",
   "execution_count": null,
   "id": "4396c305",
   "metadata": {},
   "outputs": [],
   "source": [
    "import "
   ]
  },
  {
   "cell_type": "code",
   "execution_count": 485,
   "id": "bbc28140",
   "metadata": {},
   "outputs": [
    {
     "ename": "NameError",
     "evalue": "name 'joblib' is not defined",
     "output_type": "error",
     "traceback": [
      "\u001b[0;31m---------------------------------------------------------------------------\u001b[0m",
      "\u001b[0;31mNameError\u001b[0m                                 Traceback (most recent call last)",
      "\u001b[0;32m/tmp/ipykernel_6937/956428332.py\u001b[0m in \u001b[0;36m<cell line: 1>\u001b[0;34m()\u001b[0m\n\u001b[0;32m----> 1\u001b[0;31m \u001b[0mjoblib\u001b[0m\u001b[0;34m.\u001b[0m\u001b[0mdump\u001b[0m\u001b[0;34m(\u001b[0m\u001b[0mfinal_pipeline_bestmodel\u001b[0m\u001b[0;34m,\u001b[0m \u001b[0;34m'final_model.joblib'\u001b[0m\u001b[0;34m)\u001b[0m\u001b[0;34m\u001b[0m\u001b[0;34m\u001b[0m\u001b[0m\n\u001b[0m",
      "\u001b[0;31mNameError\u001b[0m: name 'joblib' is not defined"
     ]
    }
   ],
   "source": [
    "joblib.dump(final_pipeline_bestmodel, 'final_model.joblib')"
   ]
  }
 ],
 "metadata": {
  "kernelspec": {
   "display_name": "conda_pytorch_p38",
   "language": "python",
   "name": "conda_pytorch_p38"
  },
  "language_info": {
   "codemirror_mode": {
    "name": "ipython",
    "version": 3
   },
   "file_extension": ".py",
   "mimetype": "text/x-python",
   "name": "python",
   "nbconvert_exporter": "python",
   "pygments_lexer": "ipython3",
   "version": "3.8.12"
  }
 },
 "nbformat": 4,
 "nbformat_minor": 5
}
