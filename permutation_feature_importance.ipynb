{
 "cells": [
  {
   "cell_type": "code",
   "execution_count": 337,
   "id": "66d66459",
   "metadata": {},
   "outputs": [],
   "source": [
    "import pandas as pd\n",
    "import numpy as np\n",
    "\n",
    "import matplotlib.pyplot as plt\n",
    "\n",
    "from sklearn.inspection import permutation_importance\n",
    "from sklearn.model_selection import train_test_split\n",
    "from sklearn.tree import DecisionTreeClassifier\n",
    "from sklearn.linear_model import LogisticRegression\n",
    "from sklearn.preprocessing import MinMaxScaler\n",
    "from sklearn.metrics import accuracy_score\n",
    "from sklearn.model_selection import cross_validate"
   ]
  },
  {
   "cell_type": "markdown",
   "id": "e31189d7",
   "metadata": {},
   "source": [
    "## Carga y Preparacion de Datos para Entrenamiento"
   ]
  },
  {
   "cell_type": "code",
   "execution_count": 338,
   "id": "7669e777",
   "metadata": {},
   "outputs": [],
   "source": [
    "train = pd.read_csv(\"s3://german-credit-22/Datos/train/train.csv\", index_col=0)\n",
    "test = pd.read_csv(\"s3://german-credit-22/Datos/test/test.csv\", index_col=0)"
   ]
  },
  {
   "cell_type": "code",
   "execution_count": 339,
   "id": "5a7afb17",
   "metadata": {},
   "outputs": [],
   "source": [
    "sub_train, val = train_test_split(train, test_size=0.3, random_state=42)"
   ]
  },
  {
   "cell_type": "code",
   "execution_count": 340,
   "id": "f36f798a",
   "metadata": {},
   "outputs": [],
   "source": [
    "X_train = sub_train.drop(\"Risk\", axis=1)"
   ]
  },
  {
   "cell_type": "code",
   "execution_count": 341,
   "id": "e36169aa",
   "metadata": {},
   "outputs": [],
   "source": [
    "y_train = sub_train[\"Risk\"]"
   ]
  },
  {
   "cell_type": "code",
   "execution_count": 342,
   "id": "a60ec4b8",
   "metadata": {},
   "outputs": [],
   "source": [
    "X_train = pd.get_dummies(X_train)"
   ]
  },
  {
   "cell_type": "code",
   "execution_count": 343,
   "id": "61b6314a",
   "metadata": {},
   "outputs": [
    {
     "data": {
      "text/html": [
       "<div>\n",
       "<style scoped>\n",
       "    .dataframe tbody tr th:only-of-type {\n",
       "        vertical-align: middle;\n",
       "    }\n",
       "\n",
       "    .dataframe tbody tr th {\n",
       "        vertical-align: top;\n",
       "    }\n",
       "\n",
       "    .dataframe thead th {\n",
       "        text-align: right;\n",
       "    }\n",
       "</style>\n",
       "<table border=\"1\" class=\"dataframe\">\n",
       "  <thead>\n",
       "    <tr style=\"text-align: right;\">\n",
       "      <th></th>\n",
       "      <th>Age</th>\n",
       "      <th>Job</th>\n",
       "      <th>Credit amount</th>\n",
       "      <th>Duration</th>\n",
       "      <th>Sex_female</th>\n",
       "      <th>Sex_male</th>\n",
       "      <th>Housing_free</th>\n",
       "      <th>Housing_own</th>\n",
       "      <th>Housing_rent</th>\n",
       "      <th>Saving accounts_little</th>\n",
       "      <th>...</th>\n",
       "      <th>Checking account_moderate</th>\n",
       "      <th>Checking account_rich</th>\n",
       "      <th>Purpose_business</th>\n",
       "      <th>Purpose_car</th>\n",
       "      <th>Purpose_domestic appliances</th>\n",
       "      <th>Purpose_education</th>\n",
       "      <th>Purpose_furniture/equipment</th>\n",
       "      <th>Purpose_radio/TV</th>\n",
       "      <th>Purpose_repairs</th>\n",
       "      <th>Purpose_vacation/others</th>\n",
       "    </tr>\n",
       "    <tr>\n",
       "      <th>Unnamed: 0</th>\n",
       "      <th></th>\n",
       "      <th></th>\n",
       "      <th></th>\n",
       "      <th></th>\n",
       "      <th></th>\n",
       "      <th></th>\n",
       "      <th></th>\n",
       "      <th></th>\n",
       "      <th></th>\n",
       "      <th></th>\n",
       "      <th></th>\n",
       "      <th></th>\n",
       "      <th></th>\n",
       "      <th></th>\n",
       "      <th></th>\n",
       "      <th></th>\n",
       "      <th></th>\n",
       "      <th></th>\n",
       "      <th></th>\n",
       "      <th></th>\n",
       "      <th></th>\n",
       "    </tr>\n",
       "  </thead>\n",
       "  <tbody>\n",
       "    <tr>\n",
       "      <th>241</th>\n",
       "      <td>51</td>\n",
       "      <td>2</td>\n",
       "      <td>1595</td>\n",
       "      <td>6</td>\n",
       "      <td>0</td>\n",
       "      <td>1</td>\n",
       "      <td>0</td>\n",
       "      <td>1</td>\n",
       "      <td>0</td>\n",
       "      <td>1</td>\n",
       "      <td>...</td>\n",
       "      <td>0</td>\n",
       "      <td>0</td>\n",
       "      <td>0</td>\n",
       "      <td>0</td>\n",
       "      <td>0</td>\n",
       "      <td>0</td>\n",
       "      <td>0</td>\n",
       "      <td>1</td>\n",
       "      <td>0</td>\n",
       "      <td>0</td>\n",
       "    </tr>\n",
       "    <tr>\n",
       "      <th>411</th>\n",
       "      <td>35</td>\n",
       "      <td>3</td>\n",
       "      <td>7253</td>\n",
       "      <td>33</td>\n",
       "      <td>0</td>\n",
       "      <td>1</td>\n",
       "      <td>0</td>\n",
       "      <td>1</td>\n",
       "      <td>0</td>\n",
       "      <td>1</td>\n",
       "      <td>...</td>\n",
       "      <td>0</td>\n",
       "      <td>0</td>\n",
       "      <td>0</td>\n",
       "      <td>1</td>\n",
       "      <td>0</td>\n",
       "      <td>0</td>\n",
       "      <td>0</td>\n",
       "      <td>0</td>\n",
       "      <td>0</td>\n",
       "      <td>0</td>\n",
       "    </tr>\n",
       "    <tr>\n",
       "      <th>384</th>\n",
       "      <td>26</td>\n",
       "      <td>1</td>\n",
       "      <td>4272</td>\n",
       "      <td>30</td>\n",
       "      <td>0</td>\n",
       "      <td>1</td>\n",
       "      <td>0</td>\n",
       "      <td>1</td>\n",
       "      <td>0</td>\n",
       "      <td>0</td>\n",
       "      <td>...</td>\n",
       "      <td>0</td>\n",
       "      <td>0</td>\n",
       "      <td>1</td>\n",
       "      <td>0</td>\n",
       "      <td>0</td>\n",
       "      <td>0</td>\n",
       "      <td>0</td>\n",
       "      <td>0</td>\n",
       "      <td>0</td>\n",
       "      <td>0</td>\n",
       "    </tr>\n",
       "    <tr>\n",
       "      <th>671</th>\n",
       "      <td>31</td>\n",
       "      <td>2</td>\n",
       "      <td>5742</td>\n",
       "      <td>36</td>\n",
       "      <td>0</td>\n",
       "      <td>1</td>\n",
       "      <td>0</td>\n",
       "      <td>1</td>\n",
       "      <td>0</td>\n",
       "      <td>0</td>\n",
       "      <td>...</td>\n",
       "      <td>0</td>\n",
       "      <td>0</td>\n",
       "      <td>1</td>\n",
       "      <td>0</td>\n",
       "      <td>0</td>\n",
       "      <td>0</td>\n",
       "      <td>0</td>\n",
       "      <td>0</td>\n",
       "      <td>0</td>\n",
       "      <td>0</td>\n",
       "    </tr>\n",
       "    <tr>\n",
       "      <th>763</th>\n",
       "      <td>30</td>\n",
       "      <td>3</td>\n",
       "      <td>12680</td>\n",
       "      <td>21</td>\n",
       "      <td>0</td>\n",
       "      <td>1</td>\n",
       "      <td>1</td>\n",
       "      <td>0</td>\n",
       "      <td>0</td>\n",
       "      <td>0</td>\n",
       "      <td>...</td>\n",
       "      <td>0</td>\n",
       "      <td>0</td>\n",
       "      <td>0</td>\n",
       "      <td>1</td>\n",
       "      <td>0</td>\n",
       "      <td>0</td>\n",
       "      <td>0</td>\n",
       "      <td>0</td>\n",
       "      <td>0</td>\n",
       "      <td>0</td>\n",
       "    </tr>\n",
       "    <tr>\n",
       "      <th>...</th>\n",
       "      <td>...</td>\n",
       "      <td>...</td>\n",
       "      <td>...</td>\n",
       "      <td>...</td>\n",
       "      <td>...</td>\n",
       "      <td>...</td>\n",
       "      <td>...</td>\n",
       "      <td>...</td>\n",
       "      <td>...</td>\n",
       "      <td>...</td>\n",
       "      <td>...</td>\n",
       "      <td>...</td>\n",
       "      <td>...</td>\n",
       "      <td>...</td>\n",
       "      <td>...</td>\n",
       "      <td>...</td>\n",
       "      <td>...</td>\n",
       "      <td>...</td>\n",
       "      <td>...</td>\n",
       "      <td>...</td>\n",
       "      <td>...</td>\n",
       "    </tr>\n",
       "    <tr>\n",
       "      <th>644</th>\n",
       "      <td>32</td>\n",
       "      <td>3</td>\n",
       "      <td>1880</td>\n",
       "      <td>18</td>\n",
       "      <td>0</td>\n",
       "      <td>1</td>\n",
       "      <td>0</td>\n",
       "      <td>1</td>\n",
       "      <td>0</td>\n",
       "      <td>1</td>\n",
       "      <td>...</td>\n",
       "      <td>0</td>\n",
       "      <td>0</td>\n",
       "      <td>0</td>\n",
       "      <td>0</td>\n",
       "      <td>0</td>\n",
       "      <td>0</td>\n",
       "      <td>0</td>\n",
       "      <td>1</td>\n",
       "      <td>0</td>\n",
       "      <td>0</td>\n",
       "    </tr>\n",
       "    <tr>\n",
       "      <th>880</th>\n",
       "      <td>38</td>\n",
       "      <td>3</td>\n",
       "      <td>7814</td>\n",
       "      <td>24</td>\n",
       "      <td>0</td>\n",
       "      <td>1</td>\n",
       "      <td>0</td>\n",
       "      <td>1</td>\n",
       "      <td>0</td>\n",
       "      <td>1</td>\n",
       "      <td>...</td>\n",
       "      <td>0</td>\n",
       "      <td>0</td>\n",
       "      <td>0</td>\n",
       "      <td>1</td>\n",
       "      <td>0</td>\n",
       "      <td>0</td>\n",
       "      <td>0</td>\n",
       "      <td>0</td>\n",
       "      <td>0</td>\n",
       "      <td>0</td>\n",
       "    </tr>\n",
       "    <tr>\n",
       "      <th>450</th>\n",
       "      <td>30</td>\n",
       "      <td>3</td>\n",
       "      <td>11054</td>\n",
       "      <td>36</td>\n",
       "      <td>0</td>\n",
       "      <td>1</td>\n",
       "      <td>0</td>\n",
       "      <td>1</td>\n",
       "      <td>0</td>\n",
       "      <td>0</td>\n",
       "      <td>...</td>\n",
       "      <td>0</td>\n",
       "      <td>0</td>\n",
       "      <td>0</td>\n",
       "      <td>1</td>\n",
       "      <td>0</td>\n",
       "      <td>0</td>\n",
       "      <td>0</td>\n",
       "      <td>0</td>\n",
       "      <td>0</td>\n",
       "      <td>0</td>\n",
       "    </tr>\n",
       "    <tr>\n",
       "      <th>38</th>\n",
       "      <td>37</td>\n",
       "      <td>2</td>\n",
       "      <td>1225</td>\n",
       "      <td>10</td>\n",
       "      <td>0</td>\n",
       "      <td>1</td>\n",
       "      <td>0</td>\n",
       "      <td>1</td>\n",
       "      <td>0</td>\n",
       "      <td>1</td>\n",
       "      <td>...</td>\n",
       "      <td>0</td>\n",
       "      <td>1</td>\n",
       "      <td>0</td>\n",
       "      <td>0</td>\n",
       "      <td>1</td>\n",
       "      <td>0</td>\n",
       "      <td>0</td>\n",
       "      <td>0</td>\n",
       "      <td>0</td>\n",
       "      <td>0</td>\n",
       "    </tr>\n",
       "    <tr>\n",
       "      <th>414</th>\n",
       "      <td>35</td>\n",
       "      <td>2</td>\n",
       "      <td>1381</td>\n",
       "      <td>24</td>\n",
       "      <td>1</td>\n",
       "      <td>0</td>\n",
       "      <td>0</td>\n",
       "      <td>1</td>\n",
       "      <td>0</td>\n",
       "      <td>0</td>\n",
       "      <td>...</td>\n",
       "      <td>0</td>\n",
       "      <td>0</td>\n",
       "      <td>0</td>\n",
       "      <td>1</td>\n",
       "      <td>0</td>\n",
       "      <td>0</td>\n",
       "      <td>0</td>\n",
       "      <td>0</td>\n",
       "      <td>0</td>\n",
       "      <td>0</td>\n",
       "    </tr>\n",
       "  </tbody>\n",
       "</table>\n",
       "<p>490 rows × 24 columns</p>\n",
       "</div>"
      ],
      "text/plain": [
       "            Age  Job  Credit amount  Duration  Sex_female  Sex_male  \\\n",
       "Unnamed: 0                                                            \n",
       "241          51    2           1595         6           0         1   \n",
       "411          35    3           7253        33           0         1   \n",
       "384          26    1           4272        30           0         1   \n",
       "671          31    2           5742        36           0         1   \n",
       "763          30    3          12680        21           0         1   \n",
       "...         ...  ...            ...       ...         ...       ...   \n",
       "644          32    3           1880        18           0         1   \n",
       "880          38    3           7814        24           0         1   \n",
       "450          30    3          11054        36           0         1   \n",
       "38           37    2           1225        10           0         1   \n",
       "414          35    2           1381        24           1         0   \n",
       "\n",
       "            Housing_free  Housing_own  Housing_rent  Saving accounts_little  \\\n",
       "Unnamed: 0                                                                    \n",
       "241                    0            1             0                       1   \n",
       "411                    0            1             0                       1   \n",
       "384                    0            1             0                       0   \n",
       "671                    0            1             0                       0   \n",
       "763                    1            0             0                       0   \n",
       "...                  ...          ...           ...                     ...   \n",
       "644                    0            1             0                       1   \n",
       "880                    0            1             0                       1   \n",
       "450                    0            1             0                       0   \n",
       "38                     0            1             0                       1   \n",
       "414                    0            1             0                       0   \n",
       "\n",
       "            ...  Checking account_moderate  Checking account_rich  \\\n",
       "Unnamed: 0  ...                                                     \n",
       "241         ...                          0                      0   \n",
       "411         ...                          0                      0   \n",
       "384         ...                          0                      0   \n",
       "671         ...                          0                      0   \n",
       "763         ...                          0                      0   \n",
       "...         ...                        ...                    ...   \n",
       "644         ...                          0                      0   \n",
       "880         ...                          0                      0   \n",
       "450         ...                          0                      0   \n",
       "38          ...                          0                      1   \n",
       "414         ...                          0                      0   \n",
       "\n",
       "            Purpose_business  Purpose_car  Purpose_domestic appliances  \\\n",
       "Unnamed: 0                                                               \n",
       "241                        0            0                            0   \n",
       "411                        0            1                            0   \n",
       "384                        1            0                            0   \n",
       "671                        1            0                            0   \n",
       "763                        0            1                            0   \n",
       "...                      ...          ...                          ...   \n",
       "644                        0            0                            0   \n",
       "880                        0            1                            0   \n",
       "450                        0            1                            0   \n",
       "38                         0            0                            1   \n",
       "414                        0            1                            0   \n",
       "\n",
       "            Purpose_education  Purpose_furniture/equipment  Purpose_radio/TV  \\\n",
       "Unnamed: 0                                                                     \n",
       "241                         0                            0                 1   \n",
       "411                         0                            0                 0   \n",
       "384                         0                            0                 0   \n",
       "671                         0                            0                 0   \n",
       "763                         0                            0                 0   \n",
       "...                       ...                          ...               ...   \n",
       "644                         0                            0                 1   \n",
       "880                         0                            0                 0   \n",
       "450                         0                            0                 0   \n",
       "38                          0                            0                 0   \n",
       "414                         0                            0                 0   \n",
       "\n",
       "            Purpose_repairs  Purpose_vacation/others  \n",
       "Unnamed: 0                                            \n",
       "241                       0                        0  \n",
       "411                       0                        0  \n",
       "384                       0                        0  \n",
       "671                       0                        0  \n",
       "763                       0                        0  \n",
       "...                     ...                      ...  \n",
       "644                       0                        0  \n",
       "880                       0                        0  \n",
       "450                       0                        0  \n",
       "38                        0                        0  \n",
       "414                       0                        0  \n",
       "\n",
       "[490 rows x 24 columns]"
      ]
     },
     "execution_count": 343,
     "metadata": {},
     "output_type": "execute_result"
    }
   ],
   "source": [
    "X_train"
   ]
  },
  {
   "cell_type": "code",
   "execution_count": 344,
   "id": "f8a01b96",
   "metadata": {},
   "outputs": [
    {
     "data": {
      "text/plain": [
       "Unnamed: 0\n",
       "241    good\n",
       "411    good\n",
       "384    good\n",
       "671    good\n",
       "763     bad\n",
       "       ... \n",
       "644    good\n",
       "880    good\n",
       "450    good\n",
       "38     good\n",
       "414     bad\n",
       "Name: Risk, Length: 490, dtype: object"
      ]
     },
     "execution_count": 344,
     "metadata": {},
     "output_type": "execute_result"
    }
   ],
   "source": [
    "y_train"
   ]
  },
  {
   "cell_type": "code",
   "execution_count": 345,
   "id": "aa27a5c5",
   "metadata": {},
   "outputs": [],
   "source": [
    "X_val = val.drop(\"Risk\", axis=1)\n",
    "y_val = val[\"Risk\"]"
   ]
  },
  {
   "cell_type": "code",
   "execution_count": 346,
   "id": "510e7529",
   "metadata": {},
   "outputs": [],
   "source": [
    "X_val = pd.get_dummies(X_val)"
   ]
  },
  {
   "cell_type": "markdown",
   "id": "7a402be5",
   "metadata": {},
   "source": [
    "## Entrenar el Modelo"
   ]
  },
  {
   "cell_type": "markdown",
   "id": "393f73e6",
   "metadata": {},
   "source": [
    "### Arbol de Decisión"
   ]
  },
  {
   "cell_type": "code",
   "execution_count": 347,
   "id": "7600fa15",
   "metadata": {},
   "outputs": [],
   "source": [
    "model_dtc = DecisionTreeClassifier(max_depth=3)"
   ]
  },
  {
   "cell_type": "code",
   "execution_count": 348,
   "id": "dd3bce37",
   "metadata": {},
   "outputs": [
    {
     "data": {
      "text/plain": [
       "DecisionTreeClassifier(max_depth=3)"
      ]
     },
     "execution_count": 348,
     "metadata": {},
     "output_type": "execute_result"
    }
   ],
   "source": [
    "model_dtc.fit(X_train, y_train)"
   ]
  },
  {
   "cell_type": "code",
   "execution_count": 349,
   "id": "ae4e052c",
   "metadata": {},
   "outputs": [
    {
     "data": {
      "text/plain": [
       "0.680952380952381"
      ]
     },
     "execution_count": 349,
     "metadata": {},
     "output_type": "execute_result"
    }
   ],
   "source": [
    "accuracy_score(y_val, model_dtc.predict(X_val))"
   ]
  },
  {
   "cell_type": "code",
   "execution_count": 350,
   "id": "5d64227a",
   "metadata": {},
   "outputs": [],
   "source": [
    "r_dtc = permutation_importance(model_dtc, X_val, y_val, n_repeats=30)"
   ]
  },
  {
   "cell_type": "code",
   "execution_count": 351,
   "id": "a06dcd6b",
   "metadata": {},
   "outputs": [
    {
     "data": {
      "text/plain": [
       "<function matplotlib.pyplot.show(close=None, block=None)>"
      ]
     },
     "execution_count": 351,
     "metadata": {},
     "output_type": "execute_result"
    },
    {
     "data": {
      "image/png": "[encoded data removed]",
      "text/plain": [
       "<Figure size 432x288 with 1 Axes>"
      ]
     },
     "metadata": {
      "needs_background": "light"
     },
     "output_type": "display_data"
    }
   ],
   "source": [
    "plt.bar(x=X_train.columns, height=r_dtc['importances_mean'])\n",
    "plt.xticks(rotation=90)\n",
    "plt.show"
   ]
  },
  {
   "cell_type": "markdown",
   "id": "712cdc8c",
   "metadata": {
    "toc-hr-collapsed": true,
    "toc-nb-collapsed": true
   },
   "source": [
    "### Regresión Logistica"
   ]
  },
  {
   "cell_type": "code",
   "execution_count": 352,
   "id": "1841113d",
   "metadata": {},
   "outputs": [],
   "source": [
    "X_train_scaled = MinMaxScaler().fit_transform(X_train)"
   ]
  },
  {
   "cell_type": "code",
   "execution_count": 353,
   "id": "fab13feb",
   "metadata": {},
   "outputs": [],
   "source": [
    "X_val_scaled = MinMaxScaler().fit_transform(X_val)"
   ]
  },
  {
   "cell_type": "code",
   "execution_count": 354,
   "id": "7e52ee74",
   "metadata": {},
   "outputs": [],
   "source": [
    "model_rl = LogisticRegression()"
   ]
  },
  {
   "cell_type": "code",
   "execution_count": 355,
   "id": "e36865e9",
   "metadata": {},
   "outputs": [
    {
     "data": {
      "text/plain": [
       "LogisticRegression()"
      ]
     },
     "execution_count": 355,
     "metadata": {},
     "output_type": "execute_result"
    }
   ],
   "source": [
    "model_rl.fit(X_train_scaled, y_train)"
   ]
  },
  {
   "cell_type": "code",
   "execution_count": 356,
   "id": "506a6f1a",
   "metadata": {},
   "outputs": [
    {
     "data": {
      "text/plain": [
       "0.7333333333333333"
      ]
     },
     "execution_count": 356,
     "metadata": {},
     "output_type": "execute_result"
    }
   ],
   "source": [
    "accuracy_score(y_val, model_rl.predict(X_val_scaled))"
   ]
  },
  {
   "cell_type": "code",
   "execution_count": 357,
   "id": "f676add2",
   "metadata": {},
   "outputs": [],
   "source": [
    "r_rl = permutation_importance(model_rl, X_val_scaled, y_val, n_repeats=30)"
   ]
  },
  {
   "cell_type": "code",
   "execution_count": 358,
   "id": "b45968c3",
   "metadata": {},
   "outputs": [
    {
     "data": {
      "text/plain": [
       "<function matplotlib.pyplot.show(close=None, block=None)>"
      ]
     },
     "execution_count": 358,
     "metadata": {},
     "output_type": "execute_result"
    },
    {
     "data": {
      "image/png": "[encoded data removed]",
      "text/plain": [
       "<Figure size 432x288 with 1 Axes>"
      ]
     },
     "metadata": {
      "needs_background": "light"
     },
     "output_type": "display_data"
    }
   ],
   "source": [
    "plt.bar(x=X_train.columns, height=r_rl['importances_mean'])\n",
    "plt.xticks(rotation=90)\n",
    "plt.show"
   ]
  },
  {
   "cell_type": "markdown",
   "id": "d20cf6ec",
   "metadata": {},
   "source": [
    "## Validación Cruzada"
   ]
  },
  {
   "cell_type": "code",
   "execution_count": 359,
   "id": "878344c7",
   "metadata": {},
   "outputs": [],
   "source": [
    "from sklearn.model_selection import KFold, StratifiedKFold"
   ]
  },
  {
   "cell_type": "code",
   "execution_count": 360,
   "id": "e6075068",
   "metadata": {},
   "outputs": [],
   "source": [
    "X_train = train.drop(\"Risk\", axis=1)\n",
    "X_train = pd.get_dummies(X_train)\n",
    "y_train = train[\"Risk\"]"
   ]
  },
  {
   "cell_type": "code",
   "execution_count": 361,
   "id": "68ac7003",
   "metadata": {},
   "outputs": [],
   "source": [
    "k_fold = KFold(n_splits=3)"
   ]
  },
  {
   "cell_type": "code",
   "execution_count": 362,
   "id": "7d358d21",
   "metadata": {},
   "outputs": [],
   "source": [
    "r_importances = []"
   ]
  },
  {
   "cell_type": "code",
   "execution_count": 363,
   "id": "5bfb992b",
   "metadata": {},
   "outputs": [
    {
     "name": "stdout",
     "output_type": "stream",
     "text": [
      "Result:  test_score:  0.7393162393162394  -  train_score:  0.7467811158798283\n",
      "Result:  test_score:  0.6609442060085837  -  train_score:  0.7751605995717344\n",
      "Result:  test_score:  0.6609442060085837  -  train_score:  0.7687366167023555\n"
     ]
    }
   ],
   "source": [
    "for train_indices, val_indices in k_fold.split(X_train, y_train):\n",
    "    X_sub_train = X_train.iloc[train_indices, :]\n",
    "    y_sub_train = y_train.iloc[train_indices]\n",
    "    X_val =  X_train.iloc[val_indices, :]\n",
    "    y_val =  y_train.iloc[val_indices]\n",
    "    \n",
    "    # Entrenar modelo\n",
    "    model = DecisionTreeClassifier(max_depth=3)\n",
    "    model.fit(X_sub_train, y_sub_train)\n",
    "    print(\"Result: \", \"test_score: \", accuracy_score(y_val, model.predict(X_val)), \" - \", \"train_score: \", accuracy_score(y_sub_train, model.predict(X_sub_train)))\n",
    "    \n",
    "    # Permutacion\n",
    "    r = permutation_importance(model, X_val, y_val, n_repeats=10)\n",
    "    r_importances.append(r)\n",
    "    "
   ]
  },
  {
   "cell_type": "code",
   "execution_count": 364,
   "id": "fbb6b5cc",
   "metadata": {},
   "outputs": [
    {
     "data": {
      "text/plain": [
       "{'fit_time': array([0.00501704, 0.00278091, 0.0027051 ]),\n",
       " 'score_time': array([0.0018189 , 0.00167942, 0.00162339]),\n",
       " 'test_score': array([0.72222222, 0.65236052, 0.71244635]),\n",
       " 'train_score': array([0.75107296, 0.77944325, 0.74946467])}"
      ]
     },
     "execution_count": 364,
     "metadata": {},
     "output_type": "execute_result"
    }
   ],
   "source": [
    "cross_validate(DecisionTreeClassifier(max_depth=3), X_train, y_train, cv=3, scoring=\"accuracy\", return_train_score=True)"
   ]
  },
  {
   "cell_type": "code",
   "execution_count": 365,
   "id": "59ee1359",
   "metadata": {},
   "outputs": [
    {
     "data": {
      "image/png": "[encoded data removed]",
      "text/plain": [
       "<Figure size 432x288 with 1 Axes>"
      ]
     },
     "metadata": {
      "needs_background": "light"
     },
     "output_type": "display_data"
    }
   ],
   "source": [
    "for r in r_importances:    \n",
    "    plt.bar(x=X_train.columns, height=r['importances_mean'])\n",
    "    plt.xticks(rotation=90)\n",
    "    plt.show"
   ]
  },
  {
   "cell_type": "code",
   "execution_count": 376,
   "id": "30ea9cdb",
   "metadata": {},
   "outputs": [
    {
     "ename": "SyntaxError",
     "evalue": "closing parenthesis ']' does not match opening parenthesis '(' (6489045.py, line 2)",
     "output_type": "error",
     "traceback": [
      "\u001b[0;36m  File \u001b[0;32m\"/tmp/ipykernel_25789/6489045.py\"\u001b[0;36m, line \u001b[0;32m2\u001b[0m\n\u001b[0;31m    r_importances_mean_average = [sum(s)/3 for s in list(zip(*[r for r in r_importances_mean])]\u001b[0m\n\u001b[0m                                                                                              ^\u001b[0m\n\u001b[0;31mSyntaxError\u001b[0m\u001b[0;31m:\u001b[0m closing parenthesis ']' does not match opening parenthesis '('\n"
     ]
    }
   ],
   "source": [
    "r_importances_mean = [r['importances_mean'] for r in r_importances]\n",
    "r_importances_mean_average = [sum(s)/3 for s in list(zip(*[r for r in r_importances_mean])]\n",
    "list(r_importances_mean_average)"
   ]
  },
  {
   "cell_type": "code",
   "execution_count": 367,
   "id": "895135c1",
   "metadata": {},
   "outputs": [],
   "source": [
    "var = np.zeros(len(r_importances_mean[0]))"
   ]
  },
  {
   "cell_type": "code",
   "execution_count": 368,
   "id": "ca598c6c",
   "metadata": {},
   "outputs": [],
   "source": [
    "for i in range(len(r_importances_mean)):\n",
    "    var += r_importances_mean[i]"
   ]
  },
  {
   "cell_type": "code",
   "execution_count": 369,
   "id": "1ebc5d76",
   "metadata": {},
   "outputs": [
    {
     "data": {
      "text/plain": [
       "array([-0.02274495, -0.00386266, -0.00297128,  0.04154653,  0.        ,\n",
       "        0.        ,  0.        , -0.00987124,  0.        ,  0.        ,\n",
       "        0.        ,  0.        ,  0.        ,  0.13103885, -0.00945857,\n",
       "        0.        ,  0.        ,  0.        ,  0.        ,  0.00128755,\n",
       "        0.        ,  0.        ,  0.        ,  0.        ])"
      ]
     },
     "execution_count": 369,
     "metadata": {},
     "output_type": "execute_result"
    }
   ],
   "source": [
    "var"
   ]
  },
  {
   "cell_type": "code",
   "execution_count": 370,
   "id": "65b3136a",
   "metadata": {},
   "outputs": [],
   "source": [
    "promedio = [v/3 for v in var]"
   ]
  },
  {
   "cell_type": "code",
   "execution_count": 371,
   "id": "face2316",
   "metadata": {},
   "outputs": [
    {
     "data": {
      "text/plain": [
       "[-0.00758164899795799,\n",
       " -0.0012875536480686548,\n",
       " -0.0009904258831297235,\n",
       " 0.013848843891762386,\n",
       " 0.0,\n",
       " 0.0,\n",
       " 0.0,\n",
       " -0.0032904148783977037,\n",
       " 0.0,\n",
       " 0.0,\n",
       " 0.0,\n",
       " 0.0,\n",
       " 0.0,\n",
       " 0.04367961556802761,\n",
       " -0.003152855727962992,\n",
       " 0.0,\n",
       " 0.0,\n",
       " 0.0,\n",
       " 0.0,\n",
       " 0.0004291845493562319,\n",
       " 0.0,\n",
       " 0.0,\n",
       " 0.0,\n",
       " 0.0]"
      ]
     },
     "execution_count": 371,
     "metadata": {},
     "output_type": "execute_result"
    }
   ],
   "source": [
    "promedio"
   ]
  },
  {
   "cell_type": "code",
   "execution_count": 374,
   "id": "074d9ec1",
   "metadata": {},
   "outputs": [
    {
     "data": {
      "text/plain": [
       "<function matplotlib.pyplot.show(close=None, block=None)>"
      ]
     },
     "execution_count": 374,
     "metadata": {},
     "output_type": "execute_result"
    },
    {
     "data": {
      "image/png": "[encoded data removed]",
      "text/plain": [
       "<Figure size 432x288 with 1 Axes>"
      ]
     },
     "metadata": {
      "needs_background": "light"
     },
     "output_type": "display_data"
    }
   ],
   "source": [
    "plt.bar(x=X_train.columns, height=promedio)\n",
    "plt.xticks(rotation=90)\n",
    "plt.show"
   ]
  }
 ],
 "metadata": {
  "kernelspec": {
   "display_name": "conda_python3",
   "language": "python",
   "name": "conda_python3"
  },
  "language_info": {
   "codemirror_mode": {
    "name": "ipython",
    "version": 3
   },
   "file_extension": ".py",
   "mimetype": "text/x-python",
   "name": "python",
   "nbconvert_exporter": "python",
   "pygments_lexer": "ipython3",
   "version": "3.8.12"
  }
 },
 "nbformat": 4,
 "nbformat_minor": 5
}
