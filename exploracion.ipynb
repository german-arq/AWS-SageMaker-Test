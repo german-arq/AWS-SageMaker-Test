{
 "cells": [
  {
   "cell_type": "code",
   "execution_count": 433,
   "id": "5e50aa89",
   "metadata": {},
   "outputs": [],
   "source": [
    "import pandas as pd\n",
    "import seaborn as sns\n",
    "import matplotlib.pyplot as plt\n",
    "import numpy as np\n",
    "from sklearn.model_selection import train_test_split\n",
    "import joblib"
   ]
  },
  {
   "cell_type": "code",
   "execution_count": 317,
   "id": "c1697675",
   "metadata": {},
   "outputs": [],
   "source": [
    "df = pd.read_csv(\"s3://german-credit-22/Datos/original/german_credit_data.csv\")"
   ]
  },
  {
   "cell_type": "code",
   "execution_count": 318,
   "id": "095790a9",
   "metadata": {},
   "outputs": [
    {
     "data": {
      "text/html": [
       "<div>\n",
       "<style scoped>\n",
       "    .dataframe tbody tr th:only-of-type {\n",
       "        vertical-align: middle;\n",
       "    }\n",
       "\n",
       "    .dataframe tbody tr th {\n",
       "        vertical-align: top;\n",
       "    }\n",
       "\n",
       "    .dataframe thead th {\n",
       "        text-align: right;\n",
       "    }\n",
       "</style>\n",
       "<table border=\"1\" class=\"dataframe\">\n",
       "  <thead>\n",
       "    <tr style=\"text-align: right;\">\n",
       "      <th></th>\n",
       "      <th>Unnamed: 0</th>\n",
       "      <th>Age</th>\n",
       "      <th>Sex</th>\n",
       "      <th>Job</th>\n",
       "      <th>Housing</th>\n",
       "      <th>Saving accounts</th>\n",
       "      <th>Checking account</th>\n",
       "      <th>Credit amount</th>\n",
       "      <th>Duration</th>\n",
       "      <th>Purpose</th>\n",
       "      <th>Risk</th>\n",
       "    </tr>\n",
       "  </thead>\n",
       "  <tbody>\n",
       "    <tr>\n",
       "      <th>0</th>\n",
       "      <td>0</td>\n",
       "      <td>67</td>\n",
       "      <td>male</td>\n",
       "      <td>2</td>\n",
       "      <td>own</td>\n",
       "      <td>NaN</td>\n",
       "      <td>little</td>\n",
       "      <td>1169</td>\n",
       "      <td>6</td>\n",
       "      <td>radio/TV</td>\n",
       "      <td>good</td>\n",
       "    </tr>\n",
       "    <tr>\n",
       "      <th>1</th>\n",
       "      <td>1</td>\n",
       "      <td>22</td>\n",
       "      <td>female</td>\n",
       "      <td>2</td>\n",
       "      <td>own</td>\n",
       "      <td>little</td>\n",
       "      <td>moderate</td>\n",
       "      <td>5951</td>\n",
       "      <td>48</td>\n",
       "      <td>radio/TV</td>\n",
       "      <td>bad</td>\n",
       "    </tr>\n",
       "    <tr>\n",
       "      <th>2</th>\n",
       "      <td>2</td>\n",
       "      <td>49</td>\n",
       "      <td>male</td>\n",
       "      <td>1</td>\n",
       "      <td>own</td>\n",
       "      <td>little</td>\n",
       "      <td>NaN</td>\n",
       "      <td>2096</td>\n",
       "      <td>12</td>\n",
       "      <td>education</td>\n",
       "      <td>good</td>\n",
       "    </tr>\n",
       "    <tr>\n",
       "      <th>3</th>\n",
       "      <td>3</td>\n",
       "      <td>45</td>\n",
       "      <td>male</td>\n",
       "      <td>2</td>\n",
       "      <td>free</td>\n",
       "      <td>little</td>\n",
       "      <td>little</td>\n",
       "      <td>7882</td>\n",
       "      <td>42</td>\n",
       "      <td>furniture/equipment</td>\n",
       "      <td>good</td>\n",
       "    </tr>\n",
       "    <tr>\n",
       "      <th>4</th>\n",
       "      <td>4</td>\n",
       "      <td>53</td>\n",
       "      <td>male</td>\n",
       "      <td>2</td>\n",
       "      <td>free</td>\n",
       "      <td>little</td>\n",
       "      <td>little</td>\n",
       "      <td>4870</td>\n",
       "      <td>24</td>\n",
       "      <td>car</td>\n",
       "      <td>bad</td>\n",
       "    </tr>\n",
       "    <tr>\n",
       "      <th>...</th>\n",
       "      <td>...</td>\n",
       "      <td>...</td>\n",
       "      <td>...</td>\n",
       "      <td>...</td>\n",
       "      <td>...</td>\n",
       "      <td>...</td>\n",
       "      <td>...</td>\n",
       "      <td>...</td>\n",
       "      <td>...</td>\n",
       "      <td>...</td>\n",
       "      <td>...</td>\n",
       "    </tr>\n",
       "    <tr>\n",
       "      <th>995</th>\n",
       "      <td>995</td>\n",
       "      <td>31</td>\n",
       "      <td>female</td>\n",
       "      <td>1</td>\n",
       "      <td>own</td>\n",
       "      <td>little</td>\n",
       "      <td>NaN</td>\n",
       "      <td>1736</td>\n",
       "      <td>12</td>\n",
       "      <td>furniture/equipment</td>\n",
       "      <td>good</td>\n",
       "    </tr>\n",
       "    <tr>\n",
       "      <th>996</th>\n",
       "      <td>996</td>\n",
       "      <td>40</td>\n",
       "      <td>male</td>\n",
       "      <td>3</td>\n",
       "      <td>own</td>\n",
       "      <td>little</td>\n",
       "      <td>little</td>\n",
       "      <td>3857</td>\n",
       "      <td>30</td>\n",
       "      <td>car</td>\n",
       "      <td>good</td>\n",
       "    </tr>\n",
       "    <tr>\n",
       "      <th>997</th>\n",
       "      <td>997</td>\n",
       "      <td>38</td>\n",
       "      <td>male</td>\n",
       "      <td>2</td>\n",
       "      <td>own</td>\n",
       "      <td>little</td>\n",
       "      <td>NaN</td>\n",
       "      <td>804</td>\n",
       "      <td>12</td>\n",
       "      <td>radio/TV</td>\n",
       "      <td>good</td>\n",
       "    </tr>\n",
       "    <tr>\n",
       "      <th>998</th>\n",
       "      <td>998</td>\n",
       "      <td>23</td>\n",
       "      <td>male</td>\n",
       "      <td>2</td>\n",
       "      <td>free</td>\n",
       "      <td>little</td>\n",
       "      <td>little</td>\n",
       "      <td>1845</td>\n",
       "      <td>45</td>\n",
       "      <td>radio/TV</td>\n",
       "      <td>bad</td>\n",
       "    </tr>\n",
       "    <tr>\n",
       "      <th>999</th>\n",
       "      <td>999</td>\n",
       "      <td>27</td>\n",
       "      <td>male</td>\n",
       "      <td>2</td>\n",
       "      <td>own</td>\n",
       "      <td>moderate</td>\n",
       "      <td>moderate</td>\n",
       "      <td>4576</td>\n",
       "      <td>45</td>\n",
       "      <td>car</td>\n",
       "      <td>good</td>\n",
       "    </tr>\n",
       "  </tbody>\n",
       "</table>\n",
       "<p>1000 rows × 11 columns</p>\n",
       "</div>"
      ],
      "text/plain": [
       "     Unnamed: 0  Age     Sex  Job Housing Saving accounts Checking account  \\\n",
       "0             0   67    male    2     own             NaN           little   \n",
       "1             1   22  female    2     own          little         moderate   \n",
       "2             2   49    male    1     own          little              NaN   \n",
       "3             3   45    male    2    free          little           little   \n",
       "4             4   53    male    2    free          little           little   \n",
       "..          ...  ...     ...  ...     ...             ...              ...   \n",
       "995         995   31  female    1     own          little              NaN   \n",
       "996         996   40    male    3     own          little           little   \n",
       "997         997   38    male    2     own          little              NaN   \n",
       "998         998   23    male    2    free          little           little   \n",
       "999         999   27    male    2     own        moderate         moderate   \n",
       "\n",
       "     Credit amount  Duration              Purpose  Risk  \n",
       "0             1169         6             radio/TV  good  \n",
       "1             5951        48             radio/TV   bad  \n",
       "2             2096        12            education  good  \n",
       "3             7882        42  furniture/equipment  good  \n",
       "4             4870        24                  car   bad  \n",
       "..             ...       ...                  ...   ...  \n",
       "995           1736        12  furniture/equipment  good  \n",
       "996           3857        30                  car  good  \n",
       "997            804        12             radio/TV  good  \n",
       "998           1845        45             radio/TV   bad  \n",
       "999           4576        45                  car  good  \n",
       "\n",
       "[1000 rows x 11 columns]"
      ]
     },
     "execution_count": 318,
     "metadata": {},
     "output_type": "execute_result"
    }
   ],
   "source": [
    "df"
   ]
  },
  {
   "cell_type": "code",
   "execution_count": 319,
   "id": "0666b7f6",
   "metadata": {},
   "outputs": [
    {
     "data": {
      "text/html": [
       "<div>\n",
       "<style scoped>\n",
       "    .dataframe tbody tr th:only-of-type {\n",
       "        vertical-align: middle;\n",
       "    }\n",
       "\n",
       "    .dataframe tbody tr th {\n",
       "        vertical-align: top;\n",
       "    }\n",
       "\n",
       "    .dataframe thead th {\n",
       "        text-align: right;\n",
       "    }\n",
       "</style>\n",
       "<table border=\"1\" class=\"dataframe\">\n",
       "  <thead>\n",
       "    <tr style=\"text-align: right;\">\n",
       "      <th></th>\n",
       "      <th>Unnamed: 0</th>\n",
       "      <th>Age</th>\n",
       "      <th>Job</th>\n",
       "      <th>Credit amount</th>\n",
       "      <th>Duration</th>\n",
       "    </tr>\n",
       "  </thead>\n",
       "  <tbody>\n",
       "    <tr>\n",
       "      <th>count</th>\n",
       "      <td>1000.000000</td>\n",
       "      <td>1000.000000</td>\n",
       "      <td>1000.000000</td>\n",
       "      <td>1000.000000</td>\n",
       "      <td>1000.000000</td>\n",
       "    </tr>\n",
       "    <tr>\n",
       "      <th>mean</th>\n",
       "      <td>499.500000</td>\n",
       "      <td>35.546000</td>\n",
       "      <td>1.904000</td>\n",
       "      <td>3271.258000</td>\n",
       "      <td>20.903000</td>\n",
       "    </tr>\n",
       "    <tr>\n",
       "      <th>std</th>\n",
       "      <td>288.819436</td>\n",
       "      <td>11.375469</td>\n",
       "      <td>0.653614</td>\n",
       "      <td>2822.736876</td>\n",
       "      <td>12.058814</td>\n",
       "    </tr>\n",
       "    <tr>\n",
       "      <th>min</th>\n",
       "      <td>0.000000</td>\n",
       "      <td>19.000000</td>\n",
       "      <td>0.000000</td>\n",
       "      <td>250.000000</td>\n",
       "      <td>4.000000</td>\n",
       "    </tr>\n",
       "    <tr>\n",
       "      <th>25%</th>\n",
       "      <td>249.750000</td>\n",
       "      <td>27.000000</td>\n",
       "      <td>2.000000</td>\n",
       "      <td>1365.500000</td>\n",
       "      <td>12.000000</td>\n",
       "    </tr>\n",
       "    <tr>\n",
       "      <th>50%</th>\n",
       "      <td>499.500000</td>\n",
       "      <td>33.000000</td>\n",
       "      <td>2.000000</td>\n",
       "      <td>2319.500000</td>\n",
       "      <td>18.000000</td>\n",
       "    </tr>\n",
       "    <tr>\n",
       "      <th>75%</th>\n",
       "      <td>749.250000</td>\n",
       "      <td>42.000000</td>\n",
       "      <td>2.000000</td>\n",
       "      <td>3972.250000</td>\n",
       "      <td>24.000000</td>\n",
       "    </tr>\n",
       "    <tr>\n",
       "      <th>max</th>\n",
       "      <td>999.000000</td>\n",
       "      <td>75.000000</td>\n",
       "      <td>3.000000</td>\n",
       "      <td>18424.000000</td>\n",
       "      <td>72.000000</td>\n",
       "    </tr>\n",
       "  </tbody>\n",
       "</table>\n",
       "</div>"
      ],
      "text/plain": [
       "        Unnamed: 0          Age          Job  Credit amount     Duration\n",
       "count  1000.000000  1000.000000  1000.000000    1000.000000  1000.000000\n",
       "mean    499.500000    35.546000     1.904000    3271.258000    20.903000\n",
       "std     288.819436    11.375469     0.653614    2822.736876    12.058814\n",
       "min       0.000000    19.000000     0.000000     250.000000     4.000000\n",
       "25%     249.750000    27.000000     2.000000    1365.500000    12.000000\n",
       "50%     499.500000    33.000000     2.000000    2319.500000    18.000000\n",
       "75%     749.250000    42.000000     2.000000    3972.250000    24.000000\n",
       "max     999.000000    75.000000     3.000000   18424.000000    72.000000"
      ]
     },
     "execution_count": 319,
     "metadata": {},
     "output_type": "execute_result"
    }
   ],
   "source": [
    "df.describe()"
   ]
  },
  {
   "cell_type": "code",
   "execution_count": 320,
   "id": "29b45505",
   "metadata": {},
   "outputs": [
    {
     "name": "stdout",
     "output_type": "stream",
     "text": [
      "<class 'pandas.core.frame.DataFrame'>\n",
      "RangeIndex: 1000 entries, 0 to 999\n",
      "Data columns (total 11 columns):\n",
      " #   Column            Non-Null Count  Dtype \n",
      "---  ------            --------------  ----- \n",
      " 0   Unnamed: 0        1000 non-null   int64 \n",
      " 1   Age               1000 non-null   int64 \n",
      " 2   Sex               1000 non-null   object\n",
      " 3   Job               1000 non-null   int64 \n",
      " 4   Housing           1000 non-null   object\n",
      " 5   Saving accounts   817 non-null    object\n",
      " 6   Checking account  606 non-null    object\n",
      " 7   Credit amount     1000 non-null   int64 \n",
      " 8   Duration          1000 non-null   int64 \n",
      " 9   Purpose           1000 non-null   object\n",
      " 10  Risk              1000 non-null   object\n",
      "dtypes: int64(5), object(6)\n",
      "memory usage: 86.1+ KB\n"
     ]
    }
   ],
   "source": [
    "df.info()"
   ]
  },
  {
   "cell_type": "code",
   "execution_count": 321,
   "id": "45817149",
   "metadata": {},
   "outputs": [
    {
     "data": {
      "text/plain": [
       "good    0.7\n",
       "bad     0.3\n",
       "Name: Risk, dtype: float64"
      ]
     },
     "execution_count": 321,
     "metadata": {},
     "output_type": "execute_result"
    }
   ],
   "source": [
    "df[\"Risk\"].value_counts()/df[\"Risk\"].count()"
   ]
  },
  {
   "cell_type": "code",
   "execution_count": 322,
   "id": "2dc449a2",
   "metadata": {},
   "outputs": [],
   "source": [
    "train, test = train_test_split(df, test_size=0.3, random_state=42, stratify=df[\"Risk\"])"
   ]
  },
  {
   "cell_type": "code",
   "execution_count": 323,
   "id": "a81de331",
   "metadata": {},
   "outputs": [
    {
     "data": {
      "text/plain": [
       "good    0.7\n",
       "bad     0.3\n",
       "Name: Risk, dtype: float64"
      ]
     },
     "execution_count": 323,
     "metadata": {},
     "output_type": "execute_result"
    }
   ],
   "source": [
    "train[\"Risk\"].value_counts()/train[\"Risk\"].count()"
   ]
  },
  {
   "cell_type": "code",
   "execution_count": 324,
   "id": "614b869c",
   "metadata": {},
   "outputs": [
    {
     "data": {
      "text/plain": [
       "good    0.7\n",
       "bad     0.3\n",
       "Name: Risk, dtype: float64"
      ]
     },
     "execution_count": 324,
     "metadata": {},
     "output_type": "execute_result"
    }
   ],
   "source": [
    "test[\"Risk\"].value_counts()/test[\"Risk\"].count()"
   ]
  },
  {
   "cell_type": "code",
   "execution_count": 325,
   "id": "26f1a709",
   "metadata": {},
   "outputs": [],
   "source": [
    "train.to_csv(\"s3://german-credit-22/Datos/train/train.csv\", index=False)"
   ]
  },
  {
   "cell_type": "code",
   "execution_count": 326,
   "id": "15922978",
   "metadata": {},
   "outputs": [],
   "source": [
    "test.to_csv(\"s3://german-credit-22/Datos/test/test.csv\", index=False)"
   ]
  },
  {
   "cell_type": "markdown",
   "id": "7205ede5",
   "metadata": {
    "toc-hr-collapsed": true,
    "toc-nb-collapsed": true
   },
   "source": [
    "## Exploracion de Dataset "
   ]
  },
  {
   "cell_type": "code",
   "execution_count": 327,
   "id": "710b7c98",
   "metadata": {},
   "outputs": [],
   "source": [
    "#pandas.get_dummies(train, prefix=None, prefix_sep=’_’, dummy_na=False, columns=None, sparse=False, drop_first=False, dtype=None)"
   ]
  },
  {
   "cell_type": "code",
   "execution_count": 328,
   "id": "55c5adf6",
   "metadata": {},
   "outputs": [
    {
     "data": {
      "text/plain": [
       "array([[<AxesSubplot:title={'center':'Unnamed: 0'}>,\n",
       "        <AxesSubplot:title={'center':'Age'}>],\n",
       "       [<AxesSubplot:title={'center':'Job'}>,\n",
       "        <AxesSubplot:title={'center':'Credit amount'}>],\n",
       "       [<AxesSubplot:title={'center':'Duration'}>, <AxesSubplot:>]],\n",
       "      dtype=object)"
      ]
     },
     "execution_count": 328,
     "metadata": {},
     "output_type": "execute_result"
    },
    {
     "data": {
      "image/png": "[encoded data removed]",
      "text/plain": [
       "<Figure size 864x864 with 6 Axes>"
      ]
     },
     "metadata": {
      "needs_background": "light"
     },
     "output_type": "display_data"
    }
   ],
   "source": [
    "train.hist(figsize=(12, 12))"
   ]
  },
  {
   "cell_type": "code",
   "execution_count": 329,
   "id": "aa49f5dd",
   "metadata": {},
   "outputs": [],
   "source": [
    "corr = train.corr()"
   ]
  },
  {
   "cell_type": "code",
   "execution_count": 330,
   "id": "cb6314a2",
   "metadata": {},
   "outputs": [
    {
     "data": {
      "text/plain": [
       "<AxesSubplot:>"
      ]
     },
     "execution_count": 330,
     "metadata": {},
     "output_type": "execute_result"
    },
    {
     "data": {
      "image/png": "[encoded data removed]",
      "text/plain": [
       "<Figure size 1080x1080 with 2 Axes>"
      ]
     },
     "metadata": {
      "needs_background": "light"
     },
     "output_type": "display_data"
    }
   ],
   "source": [
    "f, ax = plt.subplots(figsize=(15, 15))\n",
    "\n",
    "# Generate a custom diverging colormap\n",
    "cmap = sns.diverging_palette(230, 20, as_cmap=True)\n",
    "\n",
    "# Draw the heatmap with the mask and correct aspect ratio\n",
    "sns.heatmap(corr, cmap=cmap, vmax=.3, center=0,\n",
    "            square=True, linewidths=.5, cbar_kws={\"shrink\": .5})"
   ]
  },
  {
   "cell_type": "code",
   "execution_count": 331,
   "id": "a8f77bba",
   "metadata": {},
   "outputs": [
    {
     "data": {
      "text/html": [
       "<div>\n",
       "<style scoped>\n",
       "    .dataframe tbody tr th:only-of-type {\n",
       "        vertical-align: middle;\n",
       "    }\n",
       "\n",
       "    .dataframe tbody tr th {\n",
       "        vertical-align: top;\n",
       "    }\n",
       "\n",
       "    .dataframe thead th {\n",
       "        text-align: right;\n",
       "    }\n",
       "</style>\n",
       "<table border=\"1\" class=\"dataframe\">\n",
       "  <thead>\n",
       "    <tr style=\"text-align: right;\">\n",
       "      <th>Risk</th>\n",
       "      <th>bad</th>\n",
       "      <th>good</th>\n",
       "      <th>All</th>\n",
       "    </tr>\n",
       "    <tr>\n",
       "      <th>Housing</th>\n",
       "      <th></th>\n",
       "      <th></th>\n",
       "      <th></th>\n",
       "    </tr>\n",
       "  </thead>\n",
       "  <tbody>\n",
       "    <tr>\n",
       "      <th>free</th>\n",
       "      <td>29</td>\n",
       "      <td>45</td>\n",
       "      <td>74</td>\n",
       "    </tr>\n",
       "    <tr>\n",
       "      <th>own</th>\n",
       "      <td>133</td>\n",
       "      <td>371</td>\n",
       "      <td>504</td>\n",
       "    </tr>\n",
       "    <tr>\n",
       "      <th>rent</th>\n",
       "      <td>48</td>\n",
       "      <td>74</td>\n",
       "      <td>122</td>\n",
       "    </tr>\n",
       "    <tr>\n",
       "      <th>All</th>\n",
       "      <td>210</td>\n",
       "      <td>490</td>\n",
       "      <td>700</td>\n",
       "    </tr>\n",
       "  </tbody>\n",
       "</table>\n",
       "</div>"
      ],
      "text/plain": [
       "Risk     bad  good  All\n",
       "Housing                \n",
       "free      29    45   74\n",
       "own      133   371  504\n",
       "rent      48    74  122\n",
       "All      210   490  700"
      ]
     },
     "execution_count": 331,
     "metadata": {},
     "output_type": "execute_result"
    }
   ],
   "source": [
    "pd.crosstab(train[\"Housing\"], train[\"Risk\"], margins=True)"
   ]
  },
  {
   "cell_type": "code",
   "execution_count": 332,
   "id": "fbabdb8b",
   "metadata": {},
   "outputs": [],
   "source": [
    "tabla_sex = pd.crosstab(train[\"Sex\"], train[\"Risk\"], margins=True)\n",
    "tabla_sex[\"probability\"] = tabla_sex.iloc[:,1]/tabla_sex.iloc[:, 2]"
   ]
  },
  {
   "cell_type": "code",
   "execution_count": 333,
   "id": "61fddfc4",
   "metadata": {},
   "outputs": [
    {
     "data": {
      "text/html": [
       "<div>\n",
       "<style scoped>\n",
       "    .dataframe tbody tr th:only-of-type {\n",
       "        vertical-align: middle;\n",
       "    }\n",
       "\n",
       "    .dataframe tbody tr th {\n",
       "        vertical-align: top;\n",
       "    }\n",
       "\n",
       "    .dataframe thead th {\n",
       "        text-align: right;\n",
       "    }\n",
       "</style>\n",
       "<table border=\"1\" class=\"dataframe\">\n",
       "  <thead>\n",
       "    <tr style=\"text-align: right;\">\n",
       "      <th>Risk</th>\n",
       "      <th>bad</th>\n",
       "      <th>good</th>\n",
       "      <th>All</th>\n",
       "      <th>probability</th>\n",
       "    </tr>\n",
       "    <tr>\n",
       "      <th>Sex</th>\n",
       "      <th></th>\n",
       "      <th></th>\n",
       "      <th></th>\n",
       "      <th></th>\n",
       "    </tr>\n",
       "  </thead>\n",
       "  <tbody>\n",
       "    <tr>\n",
       "      <th>female</th>\n",
       "      <td>76</td>\n",
       "      <td>138</td>\n",
       "      <td>214</td>\n",
       "      <td>0.64486</td>\n",
       "    </tr>\n",
       "    <tr>\n",
       "      <th>male</th>\n",
       "      <td>134</td>\n",
       "      <td>352</td>\n",
       "      <td>486</td>\n",
       "      <td>0.72428</td>\n",
       "    </tr>\n",
       "    <tr>\n",
       "      <th>All</th>\n",
       "      <td>210</td>\n",
       "      <td>490</td>\n",
       "      <td>700</td>\n",
       "      <td>0.70000</td>\n",
       "    </tr>\n",
       "  </tbody>\n",
       "</table>\n",
       "</div>"
      ],
      "text/plain": [
       "Risk    bad  good  All  probability\n",
       "Sex                                \n",
       "female   76   138  214      0.64486\n",
       "male    134   352  486      0.72428\n",
       "All     210   490  700      0.70000"
      ]
     },
     "execution_count": 333,
     "metadata": {},
     "output_type": "execute_result"
    }
   ],
   "source": [
    "tabla_sex"
   ]
  },
  {
   "cell_type": "markdown",
   "id": "64cbdcc5",
   "metadata": {},
   "source": [
    "## Preprocesamiento"
   ]
  },
  {
   "cell_type": "code",
   "execution_count": 334,
   "id": "bbf003b4",
   "metadata": {},
   "outputs": [],
   "source": [
    "from sklearn.impute import SimpleImputer"
   ]
  },
  {
   "cell_type": "code",
   "execution_count": 394,
   "id": "8b3bd4a2",
   "metadata": {},
   "outputs": [],
   "source": [
    "X_train = train[[\"Age\", \"Credit amount\", \"Duration\"]]"
   ]
  },
  {
   "cell_type": "code",
   "execution_count": 336,
   "id": "4a77ff57",
   "metadata": {},
   "outputs": [],
   "source": [
    "imputer = SimpleImputer(strategy='mean')"
   ]
  },
  {
   "cell_type": "code",
   "execution_count": 337,
   "id": "1ed3b43c",
   "metadata": {},
   "outputs": [
    {
     "data": {
      "text/plain": [
       "SimpleImputer()"
      ]
     },
     "execution_count": 337,
     "metadata": {},
     "output_type": "execute_result"
    }
   ],
   "source": [
    "imputer.fit(X_train)"
   ]
  },
  {
   "cell_type": "code",
   "execution_count": 338,
   "id": "0a90bcd6",
   "metadata": {},
   "outputs": [
    {
     "data": {
      "text/plain": [
       "array([  35.40285714, 3236.12142857,   21.04857143])"
      ]
     },
     "execution_count": 338,
     "metadata": {},
     "output_type": "execute_result"
    }
   ],
   "source": [
    "imputer.statistics_"
   ]
  },
  {
   "cell_type": "code",
   "execution_count": 339,
   "id": "f4bdd673",
   "metadata": {},
   "outputs": [
    {
     "name": "stderr",
     "output_type": "stream",
     "text": [
      "/home/ec2-user/anaconda3/envs/python3/lib/python3.8/site-packages/sklearn/base.py:445: UserWarning: X does not have valid feature names, but SimpleImputer was fitted with feature names\n",
      "  warnings.warn(\n"
     ]
    },
    {
     "data": {
      "text/plain": [
       "array([[  24.        , 1000.        ,   21.04857143],\n",
       "       [  35.40285714, 3236.12142857,   12.        ]])"
      ]
     },
     "execution_count": 339,
     "metadata": {},
     "output_type": "execute_result"
    }
   ],
   "source": [
    "imputer.transform([[24, 1000, np.nan],\n",
    "                   [np.nan, np.nan, 12]])"
   ]
  },
  {
   "cell_type": "code",
   "execution_count": 340,
   "id": "d01dd137",
   "metadata": {},
   "outputs": [
    {
     "data": {
      "text/plain": [
       "array([[3.100e+01, 4.473e+03, 3.600e+01],\n",
       "       [4.600e+01, 1.829e+03, 1.500e+01],\n",
       "       [2.700e+01, 7.418e+03, 6.000e+01],\n",
       "       ...,\n",
       "       [6.300e+01, 1.655e+03, 1.200e+01],\n",
       "       [4.900e+01, 2.096e+03, 1.200e+01],\n",
       "       [3.700e+01, 3.676e+03, 6.000e+00]])"
      ]
     },
     "execution_count": 340,
     "metadata": {},
     "output_type": "execute_result"
    }
   ],
   "source": [
    "imputer.fit_transform(X_train)"
   ]
  },
  {
   "cell_type": "code",
   "execution_count": 341,
   "id": "46988b61",
   "metadata": {},
   "outputs": [],
   "source": [
    "X_train = train[[\"Saving accounts\", \"Checking account\"]]"
   ]
  },
  {
   "cell_type": "code",
   "execution_count": 342,
   "id": "e1f9dece",
   "metadata": {},
   "outputs": [],
   "source": [
    "imputer = SimpleImputer(strategy='most_frequent')"
   ]
  },
  {
   "cell_type": "code",
   "execution_count": 343,
   "id": "665d88d3",
   "metadata": {},
   "outputs": [],
   "source": [
    "#imputer.statistics_"
   ]
  },
  {
   "cell_type": "code",
   "execution_count": 344,
   "id": "b716894c",
   "metadata": {},
   "outputs": [],
   "source": [
    "X_train = pd.DataFrame(imputer.fit_transform(X_train))"
   ]
  },
  {
   "cell_type": "code",
   "execution_count": 345,
   "id": "7148e20b",
   "metadata": {},
   "outputs": [
    {
     "data": {
      "text/html": [
       "<div>\n",
       "<style scoped>\n",
       "    .dataframe tbody tr th:only-of-type {\n",
       "        vertical-align: middle;\n",
       "    }\n",
       "\n",
       "    .dataframe tbody tr th {\n",
       "        vertical-align: top;\n",
       "    }\n",
       "\n",
       "    .dataframe thead th {\n",
       "        text-align: right;\n",
       "    }\n",
       "</style>\n",
       "<table border=\"1\" class=\"dataframe\">\n",
       "  <thead>\n",
       "    <tr style=\"text-align: right;\">\n",
       "      <th></th>\n",
       "      <th>0</th>\n",
       "      <th>1</th>\n",
       "    </tr>\n",
       "  </thead>\n",
       "  <tbody>\n",
       "    <tr>\n",
       "      <th>0</th>\n",
       "      <td>little</td>\n",
       "      <td>rich</td>\n",
       "    </tr>\n",
       "    <tr>\n",
       "      <th>1</th>\n",
       "      <td>little</td>\n",
       "      <td>little</td>\n",
       "    </tr>\n",
       "    <tr>\n",
       "      <th>2</th>\n",
       "      <td>little</td>\n",
       "      <td>moderate</td>\n",
       "    </tr>\n",
       "    <tr>\n",
       "      <th>3</th>\n",
       "      <td>little</td>\n",
       "      <td>little</td>\n",
       "    </tr>\n",
       "    <tr>\n",
       "      <th>4</th>\n",
       "      <td>moderate</td>\n",
       "      <td>little</td>\n",
       "    </tr>\n",
       "    <tr>\n",
       "      <th>...</th>\n",
       "      <td>...</td>\n",
       "      <td>...</td>\n",
       "    </tr>\n",
       "    <tr>\n",
       "      <th>695</th>\n",
       "      <td>little</td>\n",
       "      <td>moderate</td>\n",
       "    </tr>\n",
       "    <tr>\n",
       "      <th>696</th>\n",
       "      <td>little</td>\n",
       "      <td>moderate</td>\n",
       "    </tr>\n",
       "    <tr>\n",
       "      <th>697</th>\n",
       "      <td>little</td>\n",
       "      <td>little</td>\n",
       "    </tr>\n",
       "    <tr>\n",
       "      <th>698</th>\n",
       "      <td>little</td>\n",
       "      <td>little</td>\n",
       "    </tr>\n",
       "    <tr>\n",
       "      <th>699</th>\n",
       "      <td>little</td>\n",
       "      <td>little</td>\n",
       "    </tr>\n",
       "  </tbody>\n",
       "</table>\n",
       "<p>700 rows × 2 columns</p>\n",
       "</div>"
      ],
      "text/plain": [
       "            0         1\n",
       "0      little      rich\n",
       "1      little    little\n",
       "2      little  moderate\n",
       "3      little    little\n",
       "4    moderate    little\n",
       "..        ...       ...\n",
       "695    little  moderate\n",
       "696    little  moderate\n",
       "697    little    little\n",
       "698    little    little\n",
       "699    little    little\n",
       "\n",
       "[700 rows x 2 columns]"
      ]
     },
     "execution_count": 345,
     "metadata": {},
     "output_type": "execute_result"
    }
   ],
   "source": [
    "X_train"
   ]
  },
  {
   "cell_type": "markdown",
   "id": "0bab6bd7",
   "metadata": {},
   "source": [
    "## Ejemplo KNN Imputer"
   ]
  },
  {
   "cell_type": "code",
   "execution_count": 346,
   "id": "0eaee066",
   "metadata": {},
   "outputs": [],
   "source": [
    "from sklearn.impute import KNNImputer\n",
    "import math"
   ]
  },
  {
   "cell_type": "code",
   "execution_count": 347,
   "id": "2706b550",
   "metadata": {},
   "outputs": [],
   "source": [
    "df = pd.DataFrame([[40, 19, 3.0],\n",
    "      [42, 20, 3.1],\n",
    "      [44, 21, None],\n",
    "      [45, 23, 4.1],\n",
    "      [39, 25, 5.0],\n",
    "      [80, 27, None],\n",
    "      [82, 30, 4.8]      \n",
    "     ], columns=[\"Peso\", \"Edad\", \"Nota\"])"
   ]
  },
  {
   "cell_type": "code",
   "execution_count": 348,
   "id": "bc751265",
   "metadata": {},
   "outputs": [
    {
     "data": {
      "text/html": [
       "<div>\n",
       "<style scoped>\n",
       "    .dataframe tbody tr th:only-of-type {\n",
       "        vertical-align: middle;\n",
       "    }\n",
       "\n",
       "    .dataframe tbody tr th {\n",
       "        vertical-align: top;\n",
       "    }\n",
       "\n",
       "    .dataframe thead th {\n",
       "        text-align: right;\n",
       "    }\n",
       "</style>\n",
       "<table border=\"1\" class=\"dataframe\">\n",
       "  <thead>\n",
       "    <tr style=\"text-align: right;\">\n",
       "      <th></th>\n",
       "      <th>Peso</th>\n",
       "      <th>Edad</th>\n",
       "      <th>Nota</th>\n",
       "    </tr>\n",
       "  </thead>\n",
       "  <tbody>\n",
       "    <tr>\n",
       "      <th>0</th>\n",
       "      <td>40</td>\n",
       "      <td>19</td>\n",
       "      <td>3.0</td>\n",
       "    </tr>\n",
       "    <tr>\n",
       "      <th>1</th>\n",
       "      <td>42</td>\n",
       "      <td>20</td>\n",
       "      <td>3.1</td>\n",
       "    </tr>\n",
       "    <tr>\n",
       "      <th>2</th>\n",
       "      <td>44</td>\n",
       "      <td>21</td>\n",
       "      <td>NaN</td>\n",
       "    </tr>\n",
       "    <tr>\n",
       "      <th>3</th>\n",
       "      <td>45</td>\n",
       "      <td>23</td>\n",
       "      <td>4.1</td>\n",
       "    </tr>\n",
       "    <tr>\n",
       "      <th>4</th>\n",
       "      <td>39</td>\n",
       "      <td>25</td>\n",
       "      <td>5.0</td>\n",
       "    </tr>\n",
       "    <tr>\n",
       "      <th>5</th>\n",
       "      <td>80</td>\n",
       "      <td>27</td>\n",
       "      <td>NaN</td>\n",
       "    </tr>\n",
       "    <tr>\n",
       "      <th>6</th>\n",
       "      <td>82</td>\n",
       "      <td>30</td>\n",
       "      <td>4.8</td>\n",
       "    </tr>\n",
       "  </tbody>\n",
       "</table>\n",
       "</div>"
      ],
      "text/plain": [
       "   Peso  Edad  Nota\n",
       "0    40    19   3.0\n",
       "1    42    20   3.1\n",
       "2    44    21   NaN\n",
       "3    45    23   4.1\n",
       "4    39    25   5.0\n",
       "5    80    27   NaN\n",
       "6    82    30   4.8"
      ]
     },
     "execution_count": 348,
     "metadata": {},
     "output_type": "execute_result"
    }
   ],
   "source": [
    "df"
   ]
  },
  {
   "cell_type": "code",
   "execution_count": 349,
   "id": "555f28b0",
   "metadata": {},
   "outputs": [],
   "source": [
    "imputer = KNNImputer(n_neighbors=1)"
   ]
  },
  {
   "cell_type": "code",
   "execution_count": 350,
   "id": "00627639",
   "metadata": {},
   "outputs": [],
   "source": [
    "result = imputer.fit_transform(df)"
   ]
  },
  {
   "cell_type": "code",
   "execution_count": 351,
   "id": "153531d7",
   "metadata": {},
   "outputs": [
    {
     "data": {
      "text/plain": [
       "array([[40. , 19. ,  3. ],\n",
       "       [42. , 20. ,  3.1],\n",
       "       [44. , 21. ,  4.1],\n",
       "       [45. , 23. ,  4.1],\n",
       "       [39. , 25. ,  5. ],\n",
       "       [80. , 27. ,  4.8],\n",
       "       [82. , 30. ,  4.8]])"
      ]
     },
     "execution_count": 351,
     "metadata": {},
     "output_type": "execute_result"
    }
   ],
   "source": [
    "result"
   ]
  },
  {
   "cell_type": "code",
   "execution_count": 352,
   "id": "f39603e7",
   "metadata": {},
   "outputs": [],
   "source": [
    "def euclidean_distance(features_x, features_y):\n",
    "    suma = 0\n",
    "    for x, y in zip(features_x, features_y):\n",
    "        suma += (x-y)**2\n",
    "    return math.sqrt(suma)"
   ]
  },
  {
   "cell_type": "markdown",
   "id": "bbb804e5",
   "metadata": {},
   "source": [
    "## Escalado"
   ]
  },
  {
   "cell_type": "markdown",
   "id": "917f4d38",
   "metadata": {},
   "source": [
    "### Escalado Estandar"
   ]
  },
  {
   "cell_type": "code",
   "execution_count": 383,
   "id": "977ee891",
   "metadata": {},
   "outputs": [],
   "source": [
    "from sklearn.preprocessing import StandardScaler, RobustScaler, MinMaxScaler"
   ]
  },
  {
   "cell_type": "code",
   "execution_count": 354,
   "id": "f9922399",
   "metadata": {},
   "outputs": [
    {
     "data": {
      "text/html": [
       "<div>\n",
       "<style scoped>\n",
       "    .dataframe tbody tr th:only-of-type {\n",
       "        vertical-align: middle;\n",
       "    }\n",
       "\n",
       "    .dataframe tbody tr th {\n",
       "        vertical-align: top;\n",
       "    }\n",
       "\n",
       "    .dataframe thead th {\n",
       "        text-align: right;\n",
       "    }\n",
       "</style>\n",
       "<table border=\"1\" class=\"dataframe\">\n",
       "  <thead>\n",
       "    <tr style=\"text-align: right;\">\n",
       "      <th></th>\n",
       "      <th>Age</th>\n",
       "    </tr>\n",
       "  </thead>\n",
       "  <tbody>\n",
       "    <tr>\n",
       "      <th>328</th>\n",
       "      <td>31</td>\n",
       "    </tr>\n",
       "    <tr>\n",
       "      <th>891</th>\n",
       "      <td>46</td>\n",
       "    </tr>\n",
       "    <tr>\n",
       "      <th>255</th>\n",
       "      <td>27</td>\n",
       "    </tr>\n",
       "    <tr>\n",
       "      <th>243</th>\n",
       "      <td>27</td>\n",
       "    </tr>\n",
       "    <tr>\n",
       "      <th>492</th>\n",
       "      <td>27</td>\n",
       "    </tr>\n",
       "    <tr>\n",
       "      <th>...</th>\n",
       "      <td>...</td>\n",
       "    </tr>\n",
       "    <tr>\n",
       "      <th>73</th>\n",
       "      <td>41</td>\n",
       "    </tr>\n",
       "    <tr>\n",
       "      <th>401</th>\n",
       "      <td>28</td>\n",
       "    </tr>\n",
       "    <tr>\n",
       "      <th>769</th>\n",
       "      <td>63</td>\n",
       "    </tr>\n",
       "    <tr>\n",
       "      <th>2</th>\n",
       "      <td>49</td>\n",
       "    </tr>\n",
       "    <tr>\n",
       "      <th>617</th>\n",
       "      <td>37</td>\n",
       "    </tr>\n",
       "  </tbody>\n",
       "</table>\n",
       "<p>700 rows × 1 columns</p>\n",
       "</div>"
      ],
      "text/plain": [
       "     Age\n",
       "328   31\n",
       "891   46\n",
       "255   27\n",
       "243   27\n",
       "492   27\n",
       "..   ...\n",
       "73    41\n",
       "401   28\n",
       "769   63\n",
       "2     49\n",
       "617   37\n",
       "\n",
       "[700 rows x 1 columns]"
      ]
     },
     "execution_count": 354,
     "metadata": {},
     "output_type": "execute_result"
    }
   ],
   "source": [
    "train[[\"Age\"]]"
   ]
  },
  {
   "cell_type": "code",
   "execution_count": 355,
   "id": "9eccc199",
   "metadata": {},
   "outputs": [],
   "source": [
    "scaler = StandardScaler()"
   ]
  },
  {
   "cell_type": "code",
   "execution_count": 356,
   "id": "8fa5226f",
   "metadata": {},
   "outputs": [
    {
     "data": {
      "text/plain": [
       "StandardScaler()"
      ]
     },
     "execution_count": 356,
     "metadata": {},
     "output_type": "execute_result"
    }
   ],
   "source": [
    "scaler.fit(train[[\"Age\"]])"
   ]
  },
  {
   "cell_type": "code",
   "execution_count": 357,
   "id": "e204d9e9",
   "metadata": {},
   "outputs": [
    {
     "data": {
      "text/plain": [
       "array([35.40285714])"
      ]
     },
     "execution_count": 357,
     "metadata": {},
     "output_type": "execute_result"
    }
   ],
   "source": [
    "scaler.mean_"
   ]
  },
  {
   "cell_type": "code",
   "execution_count": 358,
   "id": "2e9623f5",
   "metadata": {},
   "outputs": [
    {
     "data": {
      "text/plain": [
       "array([11.23479253])"
      ]
     },
     "execution_count": 358,
     "metadata": {},
     "output_type": "execute_result"
    }
   ],
   "source": [
    "scaler.var_**0.5"
   ]
  },
  {
   "cell_type": "code",
   "execution_count": 359,
   "id": "952e5429",
   "metadata": {},
   "outputs": [],
   "source": [
    "age_scaled = scaler.transform(train[[\"Age\"]])"
   ]
  },
  {
   "cell_type": "code",
   "execution_count": 360,
   "id": "b94bf211",
   "metadata": {},
   "outputs": [
    {
     "data": {
      "text/plain": [
       "array([[-0.39189483],\n",
       "       [ 0.94324331],\n",
       "       [-0.74793167],\n",
       "       [-0.74793167],\n",
       "       [-0.74793167]])"
      ]
     },
     "execution_count": 360,
     "metadata": {},
     "output_type": "execute_result"
    }
   ],
   "source": [
    "age_scaled[:5]"
   ]
  },
  {
   "cell_type": "code",
   "execution_count": 361,
   "id": "477a0f2b",
   "metadata": {},
   "outputs": [
    {
     "data": {
      "text/plain": [
       "-1.3709961351990447"
      ]
     },
     "execution_count": 361,
     "metadata": {},
     "output_type": "execute_result"
    }
   ],
   "source": [
    "age_scaled.min()"
   ]
  },
  {
   "cell_type": "code",
   "execution_count": 362,
   "id": "13def03e",
   "metadata": {},
   "outputs": [
    {
     "data": {
      "text/plain": [
       "3.524510376131248"
      ]
     },
     "execution_count": 362,
     "metadata": {},
     "output_type": "execute_result"
    }
   ],
   "source": [
    "age_scaled.max()"
   ]
  },
  {
   "cell_type": "code",
   "execution_count": 363,
   "id": "25eaf633",
   "metadata": {},
   "outputs": [
    {
     "data": {
      "text/plain": [
       "array([-0.39189483])"
      ]
     },
     "execution_count": 363,
     "metadata": {},
     "output_type": "execute_result"
    }
   ],
   "source": [
    "(train[\"Age\"].iloc[0]-scaler.mean_) / (scaler.var_ ** 0.5)"
   ]
  },
  {
   "cell_type": "code",
   "execution_count": 364,
   "id": "1a969f59",
   "metadata": {},
   "outputs": [
    {
     "data": {
      "text/plain": [
       "array([[31.]])"
      ]
     },
     "execution_count": 364,
     "metadata": {},
     "output_type": "execute_result"
    }
   ],
   "source": [
    "scaler.inverse_transform([age_scaled[0]])"
   ]
  },
  {
   "cell_type": "code",
   "execution_count": 365,
   "id": "832003af",
   "metadata": {},
   "outputs": [],
   "source": [
    "q1 = train[\"Age\"].quantile(0.25)\n",
    "q3 = train[\"Age\"].quantile(0.75)\n",
    "iqr = q3 - q1\n",
    "median = train[\"Age\"].median()"
   ]
  },
  {
   "cell_type": "code",
   "execution_count": 366,
   "id": "bd9446a7",
   "metadata": {},
   "outputs": [
    {
     "data": {
      "text/plain": [
       "14.25"
      ]
     },
     "execution_count": 366,
     "metadata": {},
     "output_type": "execute_result"
    }
   ],
   "source": [
    "iqr"
   ]
  },
  {
   "cell_type": "code",
   "execution_count": 367,
   "id": "827b57b4",
   "metadata": {},
   "outputs": [
    {
     "data": {
      "text/plain": [
       "33.0"
      ]
     },
     "execution_count": 367,
     "metadata": {},
     "output_type": "execute_result"
    }
   ],
   "source": [
    "median"
   ]
  },
  {
   "cell_type": "markdown",
   "id": "de1133e7",
   "metadata": {},
   "source": [
    "## Robust Scaler (manual)"
   ]
  },
  {
   "cell_type": "code",
   "execution_count": 368,
   "id": "da5f9ce3",
   "metadata": {},
   "outputs": [],
   "source": [
    "def robust_scaler(x, median, iqr):\n",
    "    result = x - median / iqr\n",
    "    return result"
   ]
  },
  {
   "cell_type": "code",
   "execution_count": 369,
   "id": "d5a13faa",
   "metadata": {},
   "outputs": [],
   "source": [
    "age_robust_scaled = [robust_scaler(x, median, iqr) for x in train[\"Age\"]]"
   ]
  },
  {
   "cell_type": "markdown",
   "id": "a75f6a78",
   "metadata": {},
   "source": [
    "## Valores Categóricos"
   ]
  },
  {
   "cell_type": "code",
   "execution_count": 370,
   "id": "ca15e1ac",
   "metadata": {},
   "outputs": [],
   "source": [
    "from sklearn.preprocessing import OneHotEncoder"
   ]
  },
  {
   "cell_type": "code",
   "execution_count": 376,
   "id": "6666b65a",
   "metadata": {},
   "outputs": [
    {
     "data": {
      "text/plain": [
       "<700x1 sparse matrix of type '<class 'numpy.float64'>'\n",
       "\twith 486 stored elements in Compressed Sparse Row format>"
      ]
     },
     "execution_count": 376,
     "metadata": {},
     "output_type": "execute_result"
    }
   ],
   "source": [
    "encoder = OneHotEncoder(sparse=True, drop='first')\n",
    "encoder.fit_transform(train[[\"Sex\"]])"
   ]
  },
  {
   "cell_type": "code",
   "execution_count": 377,
   "id": "a7eb5672",
   "metadata": {},
   "outputs": [
    {
     "data": {
      "text/plain": [
       "[array(['female', 'male'], dtype=object)]"
      ]
     },
     "execution_count": 377,
     "metadata": {},
     "output_type": "execute_result"
    }
   ],
   "source": [
    "encoder.categories_"
   ]
  },
  {
   "cell_type": "code",
   "execution_count": 379,
   "id": "58c8fab1",
   "metadata": {},
   "outputs": [
    {
     "data": {
      "text/plain": [
       "array([['female']], dtype=object)"
      ]
     },
     "execution_count": 379,
     "metadata": {},
     "output_type": "execute_result"
    }
   ],
   "source": [
    "encoder.inverse_transform([[0]])"
   ]
  },
  {
   "cell_type": "markdown",
   "id": "63d4b817",
   "metadata": {},
   "source": [
    "# Pipeline"
   ]
  },
  {
   "cell_type": "code",
   "execution_count": 380,
   "id": "36654dc4",
   "metadata": {},
   "outputs": [],
   "source": [
    "from sklearn.pipeline import Pipeline"
   ]
  },
  {
   "cell_type": "markdown",
   "id": "fe1bc4f2",
   "metadata": {},
   "source": [
    "## Pipeline Numerico"
   ]
  },
  {
   "cell_type": "code",
   "execution_count": 384,
   "id": "a966e9a9",
   "metadata": {},
   "outputs": [],
   "source": [
    "numeric_pipeline = Pipeline(\n",
    "    [\n",
    "        ('Imputación con la media', SimpleImputer(strategy='mean')),\n",
    "        ('Escalado minmax', MinMaxScaler())\n",
    "    ]\n",
    ")"
   ]
  },
  {
   "cell_type": "code",
   "execution_count": 385,
   "id": "b275826a",
   "metadata": {},
   "outputs": [
    {
     "data": {
      "text/plain": [
       "Pipeline(steps=[('Imputación con la media', SimpleImputer()),\n",
       "                ('Escalado minmax', MinMaxScaler())])"
      ]
     },
     "execution_count": 385,
     "metadata": {},
     "output_type": "execute_result"
    }
   ],
   "source": [
    "numeric_pipeline.fit(train[['Age', 'Credit amount', 'Duration']])"
   ]
  },
  {
   "cell_type": "code",
   "execution_count": 397,
   "id": "51b9c416",
   "metadata": {},
   "outputs": [
    {
     "data": {
      "text/plain": [
       "array([[0.2       , 0.23236492, 0.47058824],\n",
       "       [0.47272727, 0.08688236, 0.16176471],\n",
       "       [0.12727273, 0.3944096 , 0.82352941],\n",
       "       ...,\n",
       "       [0.78181818, 0.07730824, 0.11764706],\n",
       "       [0.52727273, 0.10157368, 0.11764706],\n",
       "       [0.30909091, 0.18851106, 0.02941176]])"
      ]
     },
     "execution_count": 397,
     "metadata": {},
     "output_type": "execute_result"
    }
   ],
   "source": [
    "numeric_pipeline.transform(X_train)"
   ]
  },
  {
   "cell_type": "code",
   "execution_count": 401,
   "id": "c030fdd5",
   "metadata": {},
   "outputs": [
    {
     "name": "stderr",
     "output_type": "stream",
     "text": [
      "/home/ec2-user/anaconda3/envs/python3/lib/python3.8/site-packages/sklearn/base.py:445: UserWarning: X does not have valid feature names, but SimpleImputer was fitted with feature names\n",
      "  warnings.warn(\n"
     ]
    },
    {
     "data": {
      "text/plain": [
       "array([[0.28005195, 0.16430733, 0.25071429]])"
      ]
     },
     "execution_count": 401,
     "metadata": {},
     "output_type": "execute_result"
    }
   ],
   "source": [
    "numeric_pipeline.transform([[np.nan, np.nan, np.nan]])"
   ]
  },
  {
   "cell_type": "markdown",
   "id": "73846043",
   "metadata": {},
   "source": [
    "## Pipeline Categorico"
   ]
  },
  {
   "cell_type": "markdown",
   "id": "b0cda827",
   "metadata": {},
   "source": [
    "\"Sex\", \"Purpose\", \"Housing\" Imputacion con Moda y OneHotEncoder"
   ]
  },
  {
   "cell_type": "code",
   "execution_count": 412,
   "id": "535570b3",
   "metadata": {},
   "outputs": [],
   "source": [
    "categorical_pipeline = Pipeline(\n",
    "    [\n",
    "        (\"Imputacion con la Moda\", SimpleImputer(strategy='most_frequent')),\n",
    "        (\"Codificación OneHot\", OneHotEncoder(sparse=False))\n",
    "    ]\n",
    ")"
   ]
  },
  {
   "cell_type": "code",
   "execution_count": 413,
   "id": "60829207",
   "metadata": {},
   "outputs": [],
   "source": [
    "X_train_cateogorics = train[['Sex', 'Purpose', 'Housing']]"
   ]
  },
  {
   "cell_type": "code",
   "execution_count": 416,
   "id": "43c22c68",
   "metadata": {},
   "outputs": [
    {
     "data": {
      "text/plain": [
       "Pipeline(steps=[('Imputacion con la Moda',\n",
       "                 SimpleImputer(strategy='most_frequent')),\n",
       "                ('Codificación OneHot', OneHotEncoder(sparse=False))])"
      ]
     },
     "execution_count": 416,
     "metadata": {},
     "output_type": "execute_result"
    }
   ],
   "source": [
    "categorical_pipeline.fit(X_train_cateogorics)"
   ]
  },
  {
   "cell_type": "code",
   "execution_count": 420,
   "id": "fa3cfe17",
   "metadata": {},
   "outputs": [],
   "source": [
    "encoded_x_train = categorical_pipeline.transform(X_train_cateogorics)"
   ]
  },
  {
   "cell_type": "code",
   "execution_count": 421,
   "id": "866e9c72",
   "metadata": {},
   "outputs": [
    {
     "data": {
      "text/plain": [
       "[array(['female', 'male'], dtype=object),\n",
       " array(['business', 'car', 'domestic appliances', 'education',\n",
       "        'furniture/equipment', 'radio/TV', 'repairs', 'vacation/others'],\n",
       "       dtype=object),\n",
       " array(['free', 'own', 'rent'], dtype=object)]"
      ]
     },
     "execution_count": 421,
     "metadata": {},
     "output_type": "execute_result"
    }
   ],
   "source": [
    "categorical_pipeline[1].categories_"
   ]
  },
  {
   "cell_type": "code",
   "execution_count": 423,
   "id": "395dd513",
   "metadata": {},
   "outputs": [
    {
     "data": {
      "text/plain": [
       "array([0., 1., 0., 0., 0., 0., 0., 1., 0., 0., 0., 1., 0.])"
      ]
     },
     "execution_count": 423,
     "metadata": {},
     "output_type": "execute_result"
    }
   ],
   "source": [
    "encoded_x_train[0]"
   ]
  },
  {
   "cell_type": "markdown",
   "id": "b461a65a",
   "metadata": {},
   "source": [
    "## Column Transformer"
   ]
  },
  {
   "cell_type": "code",
   "execution_count": 427,
   "id": "4067152f",
   "metadata": {},
   "outputs": [],
   "source": [
    "from sklearn.compose import ColumnTransformer"
   ]
  },
  {
   "cell_type": "code",
   "execution_count": 428,
   "id": "b4ed2339",
   "metadata": {},
   "outputs": [],
   "source": [
    "X_train_combined = train[['Age', 'Credit amount', 'Duration', 'Sex', 'Purpose', 'Housing']]"
   ]
  },
  {
   "cell_type": "code",
   "execution_count": 429,
   "id": "4e222ca0",
   "metadata": {},
   "outputs": [],
   "source": [
    "column_transformer = ColumnTransformer(\n",
    "    [\n",
    "        (\"numeric_pipeline\", numeric_pipeline, [0,1,2]),\n",
    "        (\"categorical_pipeline\", categorical_pipeline, [3,4,5])\n",
    "    ]\n",
    ")"
   ]
  },
  {
   "cell_type": "code",
   "execution_count": 431,
   "id": "994db679",
   "metadata": {},
   "outputs": [
    {
     "data": {
      "text/plain": [
       "ColumnTransformer(transformers=[('numeric_pipeline',\n",
       "                                 Pipeline(steps=[('Imputación con la media',\n",
       "                                                  SimpleImputer()),\n",
       "                                                 ('Escalado minmax',\n",
       "                                                  MinMaxScaler())]),\n",
       "                                 [0, 1, 2]),\n",
       "                                ('categorical_pipeline',\n",
       "                                 Pipeline(steps=[('Imputacion con la Moda',\n",
       "                                                  SimpleImputer(strategy='most_frequent')),\n",
       "                                                 ('Codificación OneHot',\n",
       "                                                  OneHotEncoder(sparse=False))]),\n",
       "                                 [3, 4, 5])])"
      ]
     },
     "execution_count": 431,
     "metadata": {},
     "output_type": "execute_result"
    }
   ],
   "source": [
    "column_transformer.fit(X_train_combined)"
   ]
  },
  {
   "cell_type": "code",
   "execution_count": 432,
   "id": "efc8303c",
   "metadata": {},
   "outputs": [
    {
     "data": {
      "text/plain": [
       "array([[0.2       , 0.23236492, 0.47058824, ..., 0.        , 1.        ,\n",
       "        0.        ],\n",
       "       [0.47272727, 0.08688236, 0.16176471, ..., 0.        , 1.        ,\n",
       "        0.        ],\n",
       "       [0.12727273, 0.3944096 , 0.82352941, ..., 0.        , 1.        ,\n",
       "        0.        ],\n",
       "       ...,\n",
       "       [0.78181818, 0.07730824, 0.11764706, ..., 0.        , 1.        ,\n",
       "        0.        ],\n",
       "       [0.52727273, 0.10157368, 0.11764706, ..., 0.        , 1.        ,\n",
       "        0.        ],\n",
       "       [0.30909091, 0.18851106, 0.02941176, ..., 0.        , 0.        ,\n",
       "        1.        ]])"
      ]
     },
     "execution_count": 432,
     "metadata": {},
     "output_type": "execute_result"
    }
   ],
   "source": [
    "column_transformer.transform(X_train_combined)"
   ]
  },
  {
   "cell_type": "markdown",
   "id": "3fb48918",
   "metadata": {},
   "source": [
    "# Exportar el transformer para producción"
   ]
  },
  {
   "cell_type": "code",
   "execution_count": 434,
   "id": "bd988ff4",
   "metadata": {},
   "outputs": [
    {
     "data": {
      "text/plain": [
       "['preprocessing.joblib']"
      ]
     },
     "execution_count": 434,
     "metadata": {},
     "output_type": "execute_result"
    }
   ],
   "source": [
    "joblib.dump(column_transformer, 'preprocessing.joblib')"
   ]
  }
 ],
 "metadata": {
  "kernelspec": {
   "display_name": "conda_python3",
   "language": "python",
   "name": "conda_python3"
  },
  "language_info": {
   "codemirror_mode": {
    "name": "ipython",
    "version": 3
   },
   "file_extension": ".py",
   "mimetype": "text/x-python",
   "name": "python",
   "nbconvert_exporter": "python",
   "pygments_lexer": "ipython3",
   "version": "3.8.12"
  }
 },
 "nbformat": 4,
 "nbformat_minor": 5
}
